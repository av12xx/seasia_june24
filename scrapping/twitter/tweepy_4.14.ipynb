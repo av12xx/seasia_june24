{
 "cells": [
  {
   "cell_type": "code",
   "execution_count": 46,
   "id": "cf7e59fa",
   "metadata": {},
   "outputs": [],
   "source": [
    "import configparser\n",
    "import tweepy\n",
    "from tweepy import OAuth1UserHandler, API\n",
    "import pandas as pd"
   ]
  },
  {
   "cell_type": "code",
   "execution_count": 33,
   "id": "25352e44",
   "metadata": {},
   "outputs": [],
   "source": [
    "config = configparser.ConfigParser()\n",
    "config.read('config.ini')\n",
    "\n",
    "CONSUMER_KEY = config['twitter']['api_key']\n",
    "CONSUMER_SECRET = config['twitter']['api_key_secret']\n",
    "ACCESS_KEY = config['twitter']['access_token']\n",
    "ACCESS_SECRET = config['twitter']['access_token_secret']\n",
    "BEARER_TOKEN = config['twitter']['bearer_token']"
   ]
  },
  {
   "attachments": {},
   "cell_type": "markdown",
   "id": "55a08d72",
   "metadata": {},
   "source": [
    "### Get tweets from user"
   ]
  },
  {
   "cell_type": "code",
   "execution_count": 39,
   "id": "31069140",
   "metadata": {},
   "outputs": [
    {
     "name": "stdout",
     "output_type": "stream",
     "text": [
      "this is last\n",
      "common\n",
      "holy cow!!\n",
      "common tweepy!\n",
      "oh boi\n",
      "xo till we overdose\n"
     ]
    }
   ],
   "source": [
    "def get_tweets(username):\n",
    "    auth = tweepy.OAuthHandler(CONSUMER_KEY, CONSUMER_SECRET)\n",
    "    auth.set_access_token(ACCESS_KEY, ACCESS_SECRET)\n",
    "    api = tweepy.API(auth)\n",
    "\n",
    "    number_of_tweets=200\n",
    "    tweets = api.user_timeline(screen_name=username)\n",
    "    a=[]\n",
    "    for tweet in tweets:\n",
    "        a.append(tweet.text)\n",
    "        print(tweet.text)\n",
    "    return a\n",
    "\n",
    "if __name__ == '__main__':\n",
    "    tw=get_tweets(\"anushvst\")\n",
    "    df = pd.DataFrame(tw, columns=['tweet'])\n",
    "    df.to_excel(f'tweets-{username}.xlsx',sheet_name='Sheet1', startrow=0, startcol=0, header=True, index=False)"
   ]
  },
  {
   "attachments": {},
   "cell_type": "markdown",
   "id": "afcbe201",
   "metadata": {},
   "source": [
    "### Tweets containing keywords"
   ]
  },
  {
   "cell_type": "code",
   "execution_count": 51,
   "id": "66061618",
   "metadata": {},
   "outputs": [],
   "source": [
    "auth = OAuth1UserHandler(CONSUMER_KEY, CONSUMER_SECRET, ACCESS_KEY, ACCESS_SECRET)\n",
    "api = API(auth)\n",
    "\n",
    "since_date = '2023-05-25'\n",
    "until_date = '2023-005-25'\n",
    "\n",
    "keywords = \"#tataipl -filter:retweets\"\n",
    "# tweets = api.search_tweets(KEYWORDS, lang=\"en\", count=100, tweet_mode=\"extended\")\n",
    "limit=5\n",
    "tweets = tweepy.Cursor(api.search_tweets, q=keywords, since=since_date, until=until_date, count=100, tweet_mode='extended').items(limit)\n",
    "\n",
    "columns = ['User', 'Tweet_link']\n",
    "data = []\n",
    "for tweet in tweets:\n",
    "    data.append([tweet.user.screen_name, f'https://twitter.com/twitter/status/{tweet.id}'])\n",
    "\n",
    "print(data)\n",
    "\n",
    "df = pd.DataFrame(data, columns=columns)\n",
    "df.to_excel('iplx.xlsx',sheet_name='Sheet1', startrow=0, startcol=0, header=True, index=False)"
   ]
  },
  {
   "attachments": {},
   "cell_type": "markdown",
   "id": "388509b3",
   "metadata": {},
   "source": [
    "### Tweets with hastags"
   ]
  },
  {
   "cell_type": "code",
   "execution_count": 29,
   "id": "8949c679",
   "metadata": {},
   "outputs": [
    {
     "name": "stdout",
     "output_type": "stream",
     "text": [
      "488\n"
     ]
    }
   ],
   "source": [
    "auth = OAuth1UserHandler(CONSUMER_KEY, CONSUMER_SECRET, ACCESS_KEY, ACCESS_SECRET)\n",
    "api = API(auth)\n",
    "\n",
    "QUERY = \"#javascript OR #backend -filter:retweets\"\n",
    "# QUERY = \"#javascript AND #backend -filter:retweets\"\n",
    "\n",
    "limit=488\n",
    "tweets = tweepy.Cursor(api.search_tweets, q=QUERY, count=100, tweet_mode='extended', result_type=\"recent\").items(limit)\n",
    "# tweets = api.search_tweets(QUERY, tweet_mode=\"extended\", count=5, result_type=\"recent\")\n",
    "\n",
    "columns = ['User', 'Tweet']\n",
    "data = []\n",
    "for tweet in tweets:\n",
    "    data.append([tweet.user.screen_name, tweet.full_text])\n",
    "    \n",
    "print(len(data))\n",
    "df = pd.DataFrame(data, columns=columns)\n",
    "df.to_excel('output_hastag.xlsx',sheet_name='Sheet1', startrow=0, startcol=0, header=True, index=False)"
   ]
  },
  {
   "attachments": {},
   "cell_type": "markdown",
   "id": "3257ab97",
   "metadata": {},
   "source": [
    "### Tweets containing user"
   ]
  },
  {
   "cell_type": "code",
   "execution_count": 30,
   "id": "c6d4d946",
   "metadata": {},
   "outputs": [
    {
     "name": "stdout",
     "output_type": "stream",
     "text": [
      "---------------\n",
      "488\n"
     ]
    }
   ],
   "source": [
    "auth = OAuth1UserHandler(CONSUMER_KEY, CONSUMER_SECRET, ACCESS_KEY, ACCESS_SECRET)\n",
    "api = API(auth)\n",
    "\n",
    "QUERY = \"@rockstargames\"\n",
    "# QUERY = \"tesla AND #cryptocurrency AND @elonmusk -filter:retweets\"\n",
    "# tweets = api.search_tweets(QUERY, tweet_mode=\"extended\", count=100)\n",
    "tweets = tweepy.Cursor(api.search_tweets, q=QUERY, count=100, tweet_mode='extended', result_type=\"recent\").items(limit)\n",
    "\n",
    "columns = ['User', 'Tweet']\n",
    "data = []\n",
    "for tweet in tweets:\n",
    "    data.append([tweet.user.screen_name, tweet.full_text])\n",
    "    \n",
    "print(len(data))\n",
    "df = pd.DataFrame(data, columns=columns)\n",
    "df.to_excel('output_tweet_cont_user.xlsx',sheet_name='Sheet1', startrow=0, startcol=0, header=True, index=False)"
   ]
  },
  {
   "attachments": {},
   "cell_type": "markdown",
   "id": "30d3ca86",
   "metadata": {},
   "source": [
    "### Paginator, for > last 7 days, search_all_tweets"
   ]
  },
  {
   "cell_type": "code",
   "execution_count": 7,
   "id": "b3478894",
   "metadata": {},
   "outputs": [
    {
     "name": "stdout",
     "output_type": "stream",
     "text": [
      "1541\n"
     ]
    }
   ],
   "source": [
    "client = tweepy.Client(bearer_token='AAAAAAAAAAAAAAAAAAAAACkingEAAAAA4Jwq1YefwFebTX567uROQhQXlvc%3DfDHzuzHgXMk6hFWIowYgo7JVISG58N2UxN376B2dhbgYX8Dwkz')\n",
    "query = '#KarnatakaCM -is:retweet lang:en'\n",
    "all_tweets = []\n",
    "tweets = tweepy.Paginator(client.search_recent_tweets, query=query,\n",
    "                          expansions=['author_id'],\n",
    "                          user_fields=['id', 'name', 'username','entities'],\n",
    "#                         end_time=\"2022-03-31T11:59:59Z\",\n",
    "                          end_time=\"2023-05-25\",\n",
    "                          start_time=\"2023-05-25\",\n",
    "                          max_results=100).flatten(limit=1541)\n",
    "a=[]\n",
    "u=[]\n",
    "t=[]\n",
    "for tweet in tweets:\n",
    "    t.append(tweet.text)\n",
    "    a.append(tweet.author_id)\n",
    "    \n",
    "print(len(a))\n",
    "\n",
    "x=0\n",
    "y=100\n",
    "l=len(a)\n",
    "loo=l/100\n",
    "for i in range(int(loo)+1):\n",
    "    try:\n",
    "        b=a[x:y]\n",
    "        response = client.get_users(ids=b)\n",
    "        for user in response.data:\n",
    "            u.append(user.username)\n",
    "        x+=100\n",
    "        y+=100\n",
    "    except Exception as e:\n",
    "        print(e)\n",
    "        break\n",
    "\n",
    "df=pd.DataFrame(zip(u, t), columns=['username','tweet'])\n",
    "df.to_excel('output_1.xlsx',sheet_name='Sheet1', startrow=0, startcol=0, header=True, index=False)\n",
    "\n",
    "# print(len(u))\n",
    "# se=set(u)\n",
    "# lse=list(se)\n",
    "# print(len(lse))"
   ]
  },
  {
   "cell_type": "code",
   "execution_count": 31,
   "id": "c34e03cb",
   "metadata": {},
   "outputs": [],
   "source": [
    "# for tweet in tweepy.Paginator(client.search_recent_tweets, \n",
    "#     if tweet.entities is not None:\n",
    "#         data.append([tweet.entities['mentions'][0]['username'], tweet.text])"
   ]
  },
  {
   "cell_type": "code",
   "execution_count": null,
   "id": "e4d8a51d",
   "metadata": {},
   "outputs": [],
   "source": []
  },
  {
   "cell_type": "code",
   "execution_count": 48,
   "id": "cb8e8f37",
   "metadata": {},
   "outputs": [
    {
     "name": "stdout",
     "output_type": "stream",
     "text": [
      "If @ArunPutthila was not come, there would have been a lock-up death- Assaulted Hindu activist.\n",
      "He explained how the police interrogated and physically abused us.\n",
      "#puttila #Puttur #KarnatakaCM #KarnatakaElection #HINDUTVA #PoliceBrutality \n",
      "@ArunPutthila @AmitShah @DgpKarnataka https://t.co/vJVRfuBizO\n",
      "['https://twitter.com/twitter/status/1659489257751465991']\n"
     ]
    }
   ],
   "source": [
    "client = tweepy.Client(bearer_token='AAAAAAAAAAAAAAAAAAAAACkingEAAAAA4Jwq1YefwFebTX567uROQhQXlvc%3DfDHzuzHgXMk6hFWIowYgo7JVISG58N2UxN376B2dhbgYX8Dwkz')\n",
    "query = '#KarnatakaCM -is:retweet lang:en'\n",
    "tweets = tweepy.Paginator(client.search_recent_tweets, query=query,\n",
    "                          expansions=['author_id'],\n",
    "                          user_fields=['id', 'name', 'username','entities'],\n",
    "                          max_results=100).flatten(limit=1)\n",
    "t=[]\n",
    "for tweet in tweets:\n",
    "    print(tweet.text)\n",
    "    t.append()\n",
    "    \n",
    "print(t)"
   ]
  },
  {
   "cell_type": "code",
   "execution_count": null,
   "id": "d0d6f0fd",
   "metadata": {},
   "outputs": [],
   "source": []
  }
 ],
 "metadata": {
  "kernelspec": {
   "display_name": "Python 3 (ipykernel)",
   "language": "python",
   "name": "python3"
  },
  "language_info": {
   "codemirror_mode": {
    "name": "ipython",
    "version": 3
   },
   "file_extension": ".py",
   "mimetype": "text/x-python",
   "name": "python",
   "nbconvert_exporter": "python",
   "pygments_lexer": "ipython3",
   "version": "3.9.16"
  }
 },
 "nbformat": 4,
 "nbformat_minor": 5
}
