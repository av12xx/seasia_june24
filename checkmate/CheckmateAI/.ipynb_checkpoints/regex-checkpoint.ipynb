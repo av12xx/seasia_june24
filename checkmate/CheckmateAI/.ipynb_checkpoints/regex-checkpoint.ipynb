{
 "cells": [
  {
   "cell_type": "code",
   "execution_count": 21,
   "id": "1d286eaa",
   "metadata": {},
   "outputs": [],
   "source": [
    "jd_sales = \"\"\"\"Position Overview:\n",
    "\n",
    "The Road Corridor Maintenance Improvement Lead is a crucial role responsible for overseeing and managing the maintenance and improvement initiatives for road corridors. This role involves developing and executing strategies to enhance the condition and efficiency of road networks, ensuring optimal functionality, safety, and sustainability. The Road Corridor Maintenance Improvement Lead will collaborate with various stakeholders, including government agencies, engineering teams, contractors, and local communities, to implement cost-effective solutions and drive continuous improvement in road corridor maintenance practices.\n",
    "\n",
    "Key Responsibilities:\n",
    "\n",
    "Maintenance Strategy Development: Develop and implement comprehensive road corridor maintenance strategies that align with the organization's goals, regulatory requirements, and industry best practices. Ensure these strategies address the specific needs and conditions of each road corridor.\n",
    "\n",
    "Asset Management: Establish and maintain an asset management program to monitor the condition and performance of road infrastructure. Develop maintenance schedules and plans to proactively address potential issues and prevent major failures.\n",
    "\n",
    "Performance Monitoring: Develop key performance indicators (KPIs) to measure the effectiveness of road corridor maintenance efforts. Regularly assess and report on the performance of maintenance activities to identify areas for improvement.\n",
    "\n",
    "Budget and Resource Management: Prepare and manage budgets for road corridor maintenance projects. Efficiently allocate resources, including personnel, equipment, and materials, to achieve maintenance goals within the approved budget.\n",
    "\n",
    "Collaboration and Stakeholder Engagement: Collaborate with government agencies, engineering teams, contractors, and local communities to gather input, address concerns, and coordinate maintenance activities. Foster positive relationships with stakeholders to gain support for improvement initiatives.\n",
    "\n",
    "Technical Expertise: Stay updated with the latest advancements in road construction, maintenance, and materials. Apply technical expertise to evaluate and recommend innovative solutions that improve road corridor durability and longevity.\n",
    "\n",
    "Quality Control: Ensure that all maintenance activities adhere to quality standards and regulatory requirements. Implement quality control measures to guarantee the longevity and safety of road corridors.\n",
    "\n",
    "Risk Management: Identify potential risks and challenges related to road corridor maintenance and implement risk mitigation plans. Address safety hazards promptly and ensure compliance with safety protocols.\n",
    "\n",
    "Environmental Considerations: Integrate sustainable practices into road corridor maintenance efforts, such as eco-friendly materials and methods, to minimize environmental impact.\n",
    "\n",
    "Team Leadership and Development: Lead a team of maintenance professionals, providing guidance, coaching, and mentorship. Encourage a culture of continuous improvement and professional growth within the team.\"\"\""
   ]
  },
  {
   "cell_type": "code",
   "execution_count": 22,
   "id": "4708c1d7",
   "metadata": {},
   "outputs": [
    {
     "data": {
      "text/plain": [
       "'\"Position Overview:\\n\\nThe Road Corridor Maintenance Improvement Lead is a crucial role responsible for overseeing and managing the maintenance and improvement initiatives for road corridors. This role involves developing and executing strategies to enhance the condition and efficiency of road networks, ensuring optimal functionality, safety, and sustainability. The Road Corridor Maintenance Improvement Lead will collaborate with various stakeholders, including government agencies, engineering teams, contractors, and local communities, to implement cost-effective solutions and drive continuous improvement in road corridor maintenance practices.\\n\\nKey Responsibilities:\\n\\nMaintenance Strategy Development: Develop and implement comprehensive road corridor maintenance strategies that align with the organization\\'s goals, regulatory requirements, and industry best practices. Ensure these strategies address the specific needs and conditions of each road corridor.\\n\\nAsset Management: Establish and maintain an asset management program to monitor the condition and performance of road infrastructure. Develop maintenance schedules and plans to proactively address potential issues and prevent major failures.\\n\\nPerformance Monitoring: Develop key performance indicators (KPIs) to measure the effectiveness of road corridor maintenance efforts. Regularly assess and report on the performance of maintenance activities to identify areas for improvement.\\n\\nBudget and Resource Management: Prepare and manage budgets for road corridor maintenance projects. Efficiently allocate resources, including personnel, equipment, and materials, to achieve maintenance goals within the approved budget.\\n\\nCollaboration and Stakeholder Engagement: Collaborate with government agencies, engineering teams, contractors, and local communities to gather input, address concerns, and coordinate maintenance activities. Foster positive relationships with stakeholders to gain support for improvement initiatives.\\n\\nTechnical Expertise: Stay updated with the latest advancements in road construction, maintenance, and materials. Apply technical expertise to evaluate and recommend innovative solutions that improve road corridor durability and longevity.\\n\\nQuality Control: Ensure that all maintenance activities adhere to quality standards and regulatory requirements. Implement quality control measures to guarantee the longevity and safety of road corridors.\\n\\nRisk Management: Identify potential risks and challenges related to road corridor maintenance and implement risk mitigation plans. Address safety hazards promptly and ensure compliance with safety protocols.\\n\\nEnvironmental Considerations: Integrate sustainable practices into road corridor maintenance efforts, such as eco-friendly materials and methods, to minimize environmental impact.\\n\\nTeam Leadership and Development: Lead a team of maintenance professionals, providing guidance, coaching, and mentorship. Encourage a culture of continuous improvement and professional growth within the team.'"
      ]
     },
     "execution_count": 22,
     "metadata": {},
     "output_type": "execute_result"
    }
   ],
   "source": [
    "jd_sales.replace(\"\\r\", \"\\t\")"
   ]
  },
  {
   "cell_type": "code",
   "execution_count": 23,
   "id": "b18dc008",
   "metadata": {},
   "outputs": [
    {
     "data": {
      "text/plain": [
       "'\"Position Overview:The Road Corridor Maintenance Improvement Lead is a crucial role responsible for overseeing and managing the maintenance and improvement initiatives for road corridors. This role involves developing and executing strategies to enhance the condition and efficiency of road networks, ensuring optimal functionality, safety, and sustainability. The Road Corridor Maintenance Improvement Lead will collaborate with various stakeholders, including government agencies, engineering teams, contractors, and local communities, to implement cost-effective solutions and drive continuous improvement in road corridor maintenance practices.Key Responsibilities:Maintenance Strategy Development: Develop and implement comprehensive road corridor maintenance strategies that align with the organization\\'s goals, regulatory requirements, and industry best practices. Ensure these strategies address the specific needs and conditions of each road corridor.Asset Management: Establish and maintain an asset management program to monitor the condition and performance of road infrastructure. Develop maintenance schedules and plans to proactively address potential issues and prevent major failures.Performance Monitoring: Develop key performance indicators (KPIs) to measure the effectiveness of road corridor maintenance efforts. Regularly assess and report on the performance of maintenance activities to identify areas for improvement.Budget and Resource Management: Prepare and manage budgets for road corridor maintenance projects. Efficiently allocate resources, including personnel, equipment, and materials, to achieve maintenance goals within the approved budget.Collaboration and Stakeholder Engagement: Collaborate with government agencies, engineering teams, contractors, and local communities to gather input, address concerns, and coordinate maintenance activities. Foster positive relationships with stakeholders to gain support for improvement initiatives.Technical Expertise: Stay updated with the latest advancements in road construction, maintenance, and materials. Apply technical expertise to evaluate and recommend innovative solutions that improve road corridor durability and longevity.Quality Control: Ensure that all maintenance activities adhere to quality standards and regulatory requirements. Implement quality control measures to guarantee the longevity and safety of road corridors.Risk Management: Identify potential risks and challenges related to road corridor maintenance and implement risk mitigation plans. Address safety hazards promptly and ensure compliance with safety protocols.Environmental Considerations: Integrate sustainable practices into road corridor maintenance efforts, such as eco-friendly materials and methods, to minimize environmental impact.Team Leadership and Development: Lead a team of maintenance professionals, providing guidance, coaching, and mentorship. Encourage a culture of continuous improvement and professional growth within the team.'"
      ]
     },
     "execution_count": 23,
     "metadata": {},
     "output_type": "execute_result"
    }
   ],
   "source": [
    "\"\".join(jd_sales.splitlines())"
   ]
  },
  {
   "cell_type": "code",
   "execution_count": 20,
   "id": "95261201",
   "metadata": {},
   "outputs": [
    {
     "name": "stdout",
     "output_type": "stream",
     "text": [
      "{\"job_description\": \"\\\"Banking Consultant\\n\\nJob description:\\n\\nMō te tūranga - About the role\\nKia Hanga I Te Ao, E Ora Ai, E Tupu Ai, Te Tangata Me Te Kainga. At ANZ our purpose is to shape a world where people and communities thrive. We're making this happen by improving our customers' financial wellbeing so they can achieve incredible things - be it buying their home, building a business or saving for things big or small.\\nRole Location: Te Mōro o Manukau, Manukau Mall Auckland\\nRole Type: Permanent, Part Time\\nWork Hours: 15 Hours per week. Thursday to Saturday\\nIn this role, you would have the opportunity to:\\nProvide exceptional customer experience, meeting the needs of customers across the Retail product set, excluding Home Lending.\\nContribute to a significant uplift in customer engagement and advocacy, and create real customer value.\\nConduct basic analysis of financial information relating to consumer lending.\\nActively participate in and support bank programmes and initiatives.\\nEnsure compliance with ANZ and branch policies and procedures.\\nTake responsibility to ‘know your customer' from a risk perspective.\\nDemonstrate living the ANZ Values with customers and colleagues.\\nŌu Pūkenga? - What will you bring?\\nTo grow and be successful in this role, you will ideally bring the following:\\nExceptional customer focus\\nExcellent communication and interpersonal skills\\nDemonstrated relationship and networking skills\\nSound understanding of compliance\\nA positive attitude with a Growth Mindset\\nWorking knowledge in using different digital channels\\nYou're not expected to have 100% of these skills. At ANZ a growth mindset is at the heart of our culture, so if you have most of these things in your toolbox, we'd love to hear from you. It would also be advantageous if you speak any of the following Languages - Mandarin, Cantonese, Tagalog or Vietnamese\"}\n"
     ]
    }
   ],
   "source": [
    "import json\n",
    "\n",
    "# Convert the text to JSON format\n",
    "json_data = json.dumps({\"job_description\": jd_sales}, ensure_ascii=False)\n",
    "\n",
    "# Print the JSON data\n",
    "print(json_data)"
   ]
  },
  {
   "cell_type": "code",
   "execution_count": null,
   "id": "d8c250d1",
   "metadata": {},
   "outputs": [],
   "source": [
    "st = \"\"\"Position Overview:The Road Corridor Maintenance Improvement Lead is a crucial role responsible for overseeing and managing the maintenance and improvement initiatives for road corridors. This role involves developing and executing strategies to enhance the condition and efficiency of road networks, ensuring optimal functionality, safety, and sustainability. The Road Corridor Maintenance Improvement Lead will collaborate with various stakeholders, including government agencies, engineering teams, contractors, and local communities, to implement cost-effective solutions and drive continuous improvement in road corridor maintenance practices.Key Responsibilities:Maintenance Strategy Development: Develop and implement comprehensive road corridor maintenance strategies that align with the organization's goals, regulatory requirements, and industry best practices. Ensure these strategies address the specific needs and conditions of each road corridor.Asset Management: Establish and maintain an asset management program to monitor the condition and performance of road infrastructure. Develop maintenance schedules and plans to proactively address potential issues and prevent major failures.Performance Monitoring: Develop key performance indicators (KPIs) to measure the effectiveness of road corridor maintenance efforts. Regularly assess and report on the performance of maintenance activities to identify areas for improvement.Budget and Resource Management: Prepare and manage budgets for road corridor maintenance projects. Efficiently allocate resources, including personnel, equipment, and materials, to achieve maintenance goals within the approved budget.Collaboration and Stakeholder Engagement: Collaborate with government agencies, engineering teams, contractors, and local communities to gather input, address concerns, and coordinate maintenance activities. Foster positive relationships with stakeholders to gain support for improvement initiatives.Technical Expertise: Stay updated with the latest advancements in road construction, maintenance, and materials. Apply technical expertise to evaluate and recommend innovative solutions that improve road corridor durability and longevity.Quality Control: Ensure that all maintenance activities adhere to quality standards and regulatory requirements. Implement quality control measures to guarantee the longevity and safety of road corridors.Risk Management: Identify potential risks and challenges related to road corridor maintenance and implement risk mitigation plans. Address safety hazards promptly and ensure compliance with safety protocols.Environmental Considerations: Integrate sustainable practices into road corridor maintenance efforts, such as eco-friendly materials and methods, to minimize environmental impact.Team Leadership and Development: Lead a team of maintenance professionals, providing guidance, coaching, and mentorship. Encourage a culture of continuous improvement and professional growth within the team.\"\"\""
   ]
  }
 ],
 "metadata": {
  "kernelspec": {
   "display_name": "Python 3 (ipykernel)",
   "language": "python",
   "name": "python3"
  },
  "language_info": {
   "codemirror_mode": {
    "name": "ipython",
    "version": 3
   },
   "file_extension": ".py",
   "mimetype": "text/x-python",
   "name": "python",
   "nbconvert_exporter": "python",
   "pygments_lexer": "ipython3",
   "version": "3.10.6"
  }
 },
 "nbformat": 4,
 "nbformat_minor": 5
}
