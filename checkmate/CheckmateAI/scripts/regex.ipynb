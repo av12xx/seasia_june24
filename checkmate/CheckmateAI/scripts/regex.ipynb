{
 "cells": [
  {
   "cell_type": "code",
   "execution_count": 27,
   "id": "1d286eaa",
   "metadata": {},
   "outputs": [],
   "source": [
    "jd_sales = \"\"\"\"Banking Consultant\n",
    "\n",
    "Job description:\n",
    "\n",
    "Mō te tūranga - About the role\n",
    "Kia Hanga I Te Ao, E Ora Ai, E Tupu Ai, Te Tangata Me Te Kainga. At ANZ our purpose is to shape a world where people and communities thrive. We're making this happen by improving our customers' financial wellbeing so they can achieve incredible things - be it buying their home, building a business or saving for things big or small.\n",
    "Role Location: Te Mōro o Manukau, Manukau Mall Auckland\n",
    "Role Type: Permanent, Part Time\n",
    "Work Hours: 15 Hours per week. Thursday to Saturday\n",
    "In this role, you would have the opportunity to:\n",
    "•\tProvide exceptional customer experience, meeting the needs of customers across the Retail product set, excluding Home Lending.\n",
    "•\tContribute to a significant uplift in customer engagement and advocacy, and create real customer value.\n",
    "•\tConduct basic analysis of financial information relating to consumer lending.\n",
    "•\tActively participate in and support bank programmes and initiatives.\n",
    "•\tEnsure compliance with ANZ and branch policies and procedures.\n",
    "•\tTake responsibility to ‘know your customer' from a risk perspective.\n",
    "•\tDemonstrate living the ANZ Values with customers and colleagues.\n",
    "Ōu Pūkenga? - What will you bring?\n",
    "To grow and be successful in this role, you will ideally bring the following:\n",
    "•\tExceptional customer focus\n",
    "•\tExcellent communication and interpersonal skills\n",
    "•\tDemonstrated relationship and networking skills\n",
    "•\tSound understanding of compliance\n",
    "•\tA positive attitude with a Growth Mindset\n",
    "•\tWorking knowledge in using different digital channels\n",
    "You're not expected to have 100% of these skills. At ANZ a growth mindset is at the heart of our culture, so if you have most of these things in your toolbox, we'd love to hear from you. It would also be advantageous if you speak any of the following Languages - Mandarin, Cantonese, Tagalog or Vietnamese\"\"\""
   ]
  },
  {
   "cell_type": "code",
   "execution_count": 28,
   "id": "4708c1d7",
   "metadata": {},
   "outputs": [
    {
     "data": {
      "text/plain": [
       "'\"Banking Consultant\\n\\nJob description:\\n\\nMō te tūranga - About the role\\nKia Hanga I Te Ao, E Ora Ai, E Tupu Ai, Te Tangata Me Te Kainga. At ANZ our purpose is to shape a world where people and communities thrive. We\\'re making this happen by improving our customers\\' financial wellbeing so they can achieve incredible things - be it buying their home, building a business or saving for things big or small.\\nRole Location: Te Mōro o Manukau, Manukau Mall Auckland\\nRole Type: Permanent, Part Time\\nWork Hours: 15 Hours per week. Thursday to Saturday\\nIn this role, you would have the opportunity to:\\n•\\tProvide exceptional customer experience, meeting the needs of customers across the Retail product set, excluding Home Lending.\\n•\\tContribute to a significant uplift in customer engagement and advocacy, and create real customer value.\\n•\\tConduct basic analysis of financial information relating to consumer lending.\\n•\\tActively participate in and support bank programmes and initiatives.\\n•\\tEnsure compliance with ANZ and branch policies and procedures.\\n•\\tTake responsibility to ‘know your customer\\' from a risk perspective.\\n•\\tDemonstrate living the ANZ Values with customers and colleagues.\\nŌu Pūkenga? - What will you bring?\\nTo grow and be successful in this role, you will ideally bring the following:\\n•\\tExceptional customer focus\\n•\\tExcellent communication and interpersonal skills\\n•\\tDemonstrated relationship and networking skills\\n•\\tSound understanding of compliance\\n•\\tA positive attitude with a Growth Mindset\\n•\\tWorking knowledge in using different digital channels\\nYou\\'re not expected to have 100% of these skills. At ANZ a growth mindset is at the heart of our culture, so if you have most of these things in your toolbox, we\\'d love to hear from you. It would also be advantageous if you speak any of the following Languages - Mandarin, Cantonese, Tagalog or Vietnamese'"
      ]
     },
     "execution_count": 28,
     "metadata": {},
     "output_type": "execute_result"
    }
   ],
   "source": [
    "jd_sales.replace(\"\\r\", \"\\t\")"
   ]
  },
  {
   "cell_type": "code",
   "execution_count": 29,
   "id": "4f14ebdb",
   "metadata": {},
   "outputs": [
    {
     "data": {
      "text/plain": [
       "'\"Banking ConsultantJob description:Mō te tūranga - About the roleKia Hanga I Te Ao, E Ora Ai, E Tupu Ai, Te Tangata Me Te Kainga. At ANZ our purpose is to shape a world where people and communities thrive. We\\'re making this happen by improving our customers\\' financial wellbeing so they can achieve incredible things - be it buying their home, building a business or saving for things big or small.Role Location: Te Mōro o Manukau, Manukau Mall AucklandRole Type: Permanent, Part TimeWork Hours: 15 Hours per week. Thursday to SaturdayIn this role, you would have the opportunity to:•\\tProvide exceptional customer experience, meeting the needs of customers across the Retail product set, excluding Home Lending.•\\tContribute to a significant uplift in customer engagement and advocacy, and create real customer value.•\\tConduct basic analysis of financial information relating to consumer lending.•\\tActively participate in and support bank programmes and initiatives.•\\tEnsure compliance with ANZ and branch policies and procedures.•\\tTake responsibility to ‘know your customer\\' from a risk perspective.•\\tDemonstrate living the ANZ Values with customers and colleagues.Ōu Pūkenga? - What will you bring?To grow and be successful in this role, you will ideally bring the following:•\\tExceptional customer focus•\\tExcellent communication and interpersonal skills•\\tDemonstrated relationship and networking skills•\\tSound understanding of compliance•\\tA positive attitude with a Growth Mindset•\\tWorking knowledge in using different digital channelsYou\\'re not expected to have 100% of these skills. At ANZ a growth mindset is at the heart of our culture, so if you have most of these things in your toolbox, we\\'d love to hear from you. It would also be advantageous if you speak any of the following Languages - Mandarin, Cantonese, Tagalog or Vietnamese'"
      ]
     },
     "execution_count": 29,
     "metadata": {},
     "output_type": "execute_result"
    }
   ],
   "source": [
    "\"\".join(jd_sales.splitlines())"
   ]
  },
  {
   "cell_type": "code",
   "execution_count": 30,
   "id": "72a7358d",
   "metadata": {},
   "outputs": [
    {
     "name": "stdout",
     "output_type": "stream",
     "text": [
      "{\"job_description\": \"\\\"Banking Consultant\\n\\nJob description:\\n\\nMō te tūranga - About the role\\nKia Hanga I Te Ao, E Ora Ai, E Tupu Ai, Te Tangata Me Te Kainga. At ANZ our purpose is to shape a world where people and communities thrive. We're making this happen by improving our customers' financial wellbeing so they can achieve incredible things - be it buying their home, building a business or saving for things big or small.\\nRole Location: Te Mōro o Manukau, Manukau Mall Auckland\\nRole Type: Permanent, Part Time\\nWork Hours: 15 Hours per week. Thursday to Saturday\\nIn this role, you would have the opportunity to:\\n•\\tProvide exceptional customer experience, meeting the needs of customers across the Retail product set, excluding Home Lending.\\n•\\tContribute to a significant uplift in customer engagement and advocacy, and create real customer value.\\n•\\tConduct basic analysis of financial information relating to consumer lending.\\n•\\tActively participate in and support bank programmes and initiatives.\\n•\\tEnsure compliance with ANZ and branch policies and procedures.\\n•\\tTake responsibility to ‘know your customer' from a risk perspective.\\n•\\tDemonstrate living the ANZ Values with customers and colleagues.\\nŌu Pūkenga? - What will you bring?\\nTo grow and be successful in this role, you will ideally bring the following:\\n•\\tExceptional customer focus\\n•\\tExcellent communication and interpersonal skills\\n•\\tDemonstrated relationship and networking skills\\n•\\tSound understanding of compliance\\n•\\tA positive attitude with a Growth Mindset\\n•\\tWorking knowledge in using different digital channels\\nYou're not expected to have 100% of these skills. At ANZ a growth mindset is at the heart of our culture, so if you have most of these things in your toolbox, we'd love to hear from you. It would also be advantageous if you speak any of the following Languages - Mandarin, Cantonese, Tagalog or Vietnamese\"}\n"
     ]
    }
   ],
   "source": [
    "import json\n",
    "\n",
    "# Convert the text to JSON format\n",
    "json_data = json.dumps({\"job_description\": jd_sales}, ensure_ascii=False)\n",
    "\n",
    "# Print the JSON data\n",
    "print(json_data)"
   ]
  },
  {
   "cell_type": "code",
   "execution_count": 31,
   "id": "872300a0",
   "metadata": {},
   "outputs": [
    {
     "name": "stdout",
     "output_type": "stream",
     "text": [
      "\"Banking Consultant\n",
      "\n",
      "Job description:\n",
      "\n",
      "Mō te tūranga - About the role\n",
      "Kia Hanga I Te Ao, E Ora Ai, E Tupu Ai, Te Tangata Me Te Kainga. At ANZ our purpose is to shape a world where people and communities thrive. We're making this happen by improving our customers' financial wellbeing so they can achieve incredible things - be it buying their home, building a business or saving for things big or small.\n",
      "Role Location: Te Mōro o Manukau, Manukau Mall Auckland\n",
      "Role Type: Permanent, Part Time\n",
      "Work Hours: 15 Hours per week. Thursday to Saturday\n",
      "In this role, you would have the opportunity to:\n",
      "•\tProvide exceptional customer experience, meeting the needs of customers across the Retail product set, excluding Home Lending.\n",
      "•\tContribute to a significant uplift in customer engagement and advocacy, and create real customer value.\n",
      "•\tConduct basic analysis of financial information relating to consumer lending.\n",
      "•\tActively participate in and support bank programmes and initiatives.\n",
      "•\tEnsure compliance with ANZ and branch policies and procedures.\n",
      "•\tTake responsibility to ‘know your customer' from a risk perspective.\n",
      "•\tDemonstrate living the ANZ Values with customers and colleagues.\n",
      "Ōu Pūkenga? - What will you bring?\n",
      "To grow and be successful in this role, you will ideally bring the following:\n",
      "•\tExceptional customer focus\n",
      "•\tExcellent communication and interpersonal skills\n",
      "•\tDemonstrated relationship and networking skills\n",
      "•\tSound understanding of compliance\n",
      "•\tA positive attitude with a Growth Mindset\n",
      "•\tWorking knowledge in using different digital channels\n",
      "You're not expected to have 100% of these skills. At ANZ a growth mindset is at the heart of our culture, so if you have most of these things in your toolbox, we'd love to hear from you. It would also be advantageous if you speak any of the following Languages - Mandarin, Cantonese, Tagalog or Vietnamese\n"
     ]
    }
   ],
   "source": [
    "import re\n",
    "\n",
    "def remove_escaping_characters(input_string):\n",
    "    # Define the regex pattern to match escaping characters (backslashes)\n",
    "    pattern = r'\\\\(.)'\n",
    "\n",
    "    # Use re.sub() to replace the escaped character with the captured character\n",
    "    result_string = re.sub(pattern, r'\\1', input_string)\n",
    "\n",
    "    return result_string\n",
    "\n",
    "# Test the function\n",
    "input_string = jd_sales\n",
    "output_string = remove_escaping_characters(input_string)\n",
    "print(output_string)"
   ]
  },
  {
   "cell_type": "code",
   "execution_count": 32,
   "id": "58f23a8a",
   "metadata": {},
   "outputs": [
    {
     "data": {
      "text/plain": [
       "'\"Banking Consultant\\n\\nJob description:\\n\\nMō te tūranga - About the role\\nKia Hanga I Te Ao, E Ora Ai, E Tupu Ai, Te Tangata Me Te Kainga. At ANZ our purpose is to shape a world where people and communities thrive. We\\'re making this happen by improving our customers\\' financial wellbeing so they can achieve incredible things - be it buying their home, building a business or saving for things big or small.\\nRole Location: Te Mōro o Manukau, Manukau Mall Auckland\\nRole Type: Permanent, Part Time\\nWork Hours: 15 Hours per week. Thursday to Saturday\\nIn this role, you would have the opportunity to:\\n•\\tProvide exceptional customer experience, meeting the needs of customers across the Retail product set, excluding Home Lending.\\n•\\tContribute to a significant uplift in customer engagement and advocacy, and create real customer value.\\n•\\tConduct basic analysis of financial information relating to consumer lending.\\n•\\tActively participate in and support bank programmes and initiatives.\\n•\\tEnsure compliance with ANZ and branch policies and procedures.\\n•\\tTake responsibility to ‘know your customer\\' from a risk perspective.\\n•\\tDemonstrate living the ANZ Values with customers and colleagues.\\nŌu Pūkenga? - What will you bring?\\nTo grow and be successful in this role, you will ideally bring the following:\\n•\\tExceptional customer focus\\n•\\tExcellent communication and interpersonal skills\\n•\\tDemonstrated relationship and networking skills\\n•\\tSound understanding of compliance\\n•\\tA positive attitude with a Growth Mindset\\n•\\tWorking knowledge in using different digital channels\\nYou\\'re not expected to have 100% of these skills. At ANZ a growth mindset is at the heart of our culture, so if you have most of these things in your toolbox, we\\'d love to hear from you. It would also be advantageous if you speak any of the following Languages - Mandarin, Cantonese, Tagalog or Vietnamese'"
      ]
     },
     "execution_count": 32,
     "metadata": {},
     "output_type": "execute_result"
    }
   ],
   "source": [
    "output_string.replace(\"\\r\", \"\\t\")"
   ]
  },
  {
   "cell_type": "code",
   "execution_count": 33,
   "id": "6c912d93",
   "metadata": {},
   "outputs": [
    {
     "name": "stdout",
     "output_type": "stream",
     "text": [
      "\"Banking ConsultantJob description:Mō te tūranga - About the roleKia Hanga I Te Ao, E Ora Ai, E Tupu Ai, Te Tangata Me Te Kainga. At ANZ our purpose is to shape a world where people and communities thrive. We're making this happen by improving our customers' financial wellbeing so they can achieve incredible things - be it buying their home, building a business or saving for things big or small.Role Location: Te Mōro o Manukau, Manukau Mall AucklandRole Type: Permanent, Part TimeWork Hours: 15 Hours per week. Thursday to SaturdayIn this role, you would have the opportunity to:•\tProvide exceptional customer experience, meeting the needs of customers across the Retail product set, excluding Home Lending.•\tContribute to a significant uplift in customer engagement and advocacy, and create real customer value.•\tConduct basic analysis of financial information relating to consumer lending.•\tActively participate in and support bank programmes and initiatives.•\tEnsure compliance with ANZ and branch policies and procedures.•\tTake responsibility to ‘know your customer' from a risk perspective.•\tDemonstrate living the ANZ Values with customers and colleagues.Ōu Pūkenga? - What will you bring?To grow and be successful in this role, you will ideally bring the following:•\tExceptional customer focus•\tExcellent communication and interpersonal skills•\tDemonstrated relationship and networking skills•\tSound understanding of compliance•\tA positive attitude with a Growth Mindset•\tWorking knowledge in using different digital channelsYou're not expected to have 100% of these skills. At ANZ a growth mindset is at the heart of our culture, so if you have most of these things in your toolbox, we'd love to hear from you. It would also be advantageous if you speak any of the following Languages - Mandarin, Cantonese, Tagalog or Vietnamese\n"
     ]
    }
   ],
   "source": [
    "import re\n",
    "\n",
    "def remove_newline_characters(input_string):\n",
    "    # Define the regex pattern to match the newline character '\\n'\n",
    "    pattern = r'\\n'\n",
    "\n",
    "    # Use re.sub() to remove the newline characters from the input string\n",
    "    result_string = re.sub(pattern, '', input_string)\n",
    "\n",
    "    return result_string\n",
    "\n",
    "# Test the function\n",
    "input_string = jd_sales\n",
    "output_string = remove_newline_characters(input_string)\n",
    "print(output_string)"
   ]
  },
  {
   "cell_type": "code",
   "execution_count": 34,
   "id": "35ef718d",
   "metadata": {},
   "outputs": [
    {
     "data": {
      "text/plain": [
       "'\"Banking ConsultantJob description:Mō te tūranga - About the roleKia Hanga I Te Ao, E Ora Ai, E Tupu Ai, Te Tangata Me Te Kainga. At ANZ our purpose is to shape a world where people and communities thrive. We\\'re making this happen by improving our customers\\' financial wellbeing so they can achieve incredible things - be it buying their home, building a business or saving for things big or small.Role Location: Te Mōro o Manukau, Manukau Mall AucklandRole Type: Permanent, Part TimeWork Hours: 15 Hours per week. Thursday to SaturdayIn this role, you would have the opportunity to:•\\tProvide exceptional customer experience, meeting the needs of customers across the Retail product set, excluding Home Lending.•\\tContribute to a significant uplift in customer engagement and advocacy, and create real customer value.•\\tConduct basic analysis of financial information relating to consumer lending.•\\tActively participate in and support bank programmes and initiatives.•\\tEnsure compliance with ANZ and branch policies and procedures.•\\tTake responsibility to ‘know your customer\\' from a risk perspective.•\\tDemonstrate living the ANZ Values with customers and colleagues.Ōu Pūkenga? - What will you bring?To grow and be successful in this role, you will ideally bring the following:•\\tExceptional customer focus•\\tExcellent communication and interpersonal skills•\\tDemonstrated relationship and networking skills•\\tSound understanding of compliance•\\tA positive attitude with a Growth Mindset•\\tWorking knowledge in using different digital channelsYou\\'re not expected to have 100% of these skills. At ANZ a growth mindset is at the heart of our culture, so if you have most of these things in your toolbox, we\\'d love to hear from you. It would also be advantageous if you speak any of the following Languages - Mandarin, Cantonese, Tagalog or Vietnamese'"
      ]
     },
     "execution_count": 34,
     "metadata": {},
     "output_type": "execute_result"
    }
   ],
   "source": [
    "output_string.replace(\"\\r\", \"\\t\")"
   ]
  },
  {
   "cell_type": "code",
   "execution_count": null,
   "id": "fa66b537",
   "metadata": {},
   "outputs": [],
   "source": []
  }
 ],
 "metadata": {
  "kernelspec": {
   "display_name": "Python 3 (ipykernel)",
   "language": "python",
   "name": "python3"
  },
  "language_info": {
   "codemirror_mode": {
    "name": "ipython",
    "version": 3
   },
   "file_extension": ".py",
   "mimetype": "text/x-python",
   "name": "python",
   "nbconvert_exporter": "python",
   "pygments_lexer": "ipython3",
   "version": "3.9.17"
  }
 },
 "nbformat": 4,
 "nbformat_minor": 5
}
