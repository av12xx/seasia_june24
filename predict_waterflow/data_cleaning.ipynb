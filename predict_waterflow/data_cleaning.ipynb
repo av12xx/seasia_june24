{
 "cells": [
  {
   "cell_type": "code",
   "execution_count": 1,
   "id": "3b266236",
   "metadata": {},
   "outputs": [],
   "source": [
    "import pandas as pd\n",
    "import matplotlib.pyplot as plt\n",
    "import seaborn as sns\n",
    "import numpy as np\n",
    "from scipy.stats import zscore"
   ]
  },
  {
   "cell_type": "code",
   "execution_count": 2,
   "id": "90e94907",
   "metadata": {},
   "outputs": [],
   "source": [
    "df=pd.read_csv(\"data/final_data.csv\")\n",
    "df"
   ]
  },
  {
   "cell_type": "code",
   "execution_count": null,
   "id": "8bcffb0c",
   "metadata": {},
   "outputs": [],
   "source": [
    "df.describe()"
   ]
  },
  {
   "cell_type": "code",
   "execution_count": null,
   "id": "7843323a",
   "metadata": {},
   "outputs": [],
   "source": [
    "df.duplicated()[:50]"
   ]
  },
  {
   "cell_type": "code",
   "execution_count": null,
   "id": "93bc4fb9",
   "metadata": {},
   "outputs": [],
   "source": [
    "for i in df['Acc_y']:\n",
    "    print(type(i))\n",
    "    break;"
   ]
  },
  {
   "cell_type": "code",
   "execution_count": null,
   "id": "983296a1",
   "metadata": {},
   "outputs": [],
   "source": [
    "df.isnull()"
   ]
  },
  {
   "cell_type": "code",
   "execution_count": null,
   "id": "329842f4",
   "metadata": {},
   "outputs": [],
   "source": [
    "df=df.drop_duplicates()\n",
    "df"
   ]
  },
  {
   "cell_type": "code",
   "execution_count": 9,
   "id": "2e2e4002",
   "metadata": {},
   "outputs": [],
   "source": [
    "df1=df.reset_index(drop=True)\n",
    "df1"
   ]
  },
  {
   "cell_type": "code",
   "execution_count": null,
   "id": "d4188841",
   "metadata": {},
   "outputs": [],
   "source": [
    "df1.shape"
   ]
  },
  {
   "cell_type": "code",
   "execution_count": null,
   "id": "e270a38c",
   "metadata": {},
   "outputs": [],
   "source": [
    "count=df1['Degree_rotation'].value_counts()\n",
    "count"
   ]
  },
  {
   "cell_type": "code",
   "execution_count": null,
   "id": "2c971175",
   "metadata": {},
   "outputs": [],
   "source": [
    "key=[]\n",
    "value=[]\n",
    "for i,j in count.items():\n",
    "    key.append(i)\n",
    "    value.append(j)\n",
    "    \n",
    "key    "
   ]
  },
  {
   "cell_type": "code",
   "execution_count": null,
   "id": "30a50132",
   "metadata": {},
   "outputs": [],
   "source": [
    "value"
   ]
  },
  {
   "cell_type": "markdown",
   "id": "c9583fb9",
   "metadata": {},
   "source": [
    "### value counts plot"
   ]
  },
  {
   "cell_type": "code",
   "execution_count": null,
   "id": "29d23328",
   "metadata": {},
   "outputs": [],
   "source": [
    "plt.bar(key,value,color='green',width=1)\n",
    "plt.xlabel(\"Values\")\n",
    "plt.ylabel(\"Counts\")\n",
    "plt.title(\"value_counts\")\n",
    "plt.show()"
   ]
  },
  {
   "cell_type": "markdown",
   "id": "6aa33dc9",
   "metadata": {},
   "source": [
    "### check outliers"
   ]
  },
  {
   "cell_type": "code",
   "execution_count": null,
   "id": "24cd1631",
   "metadata": {},
   "outputs": [],
   "source": [
    "data = [df1['Acc_x'],df1['Acc_y'],df1['Acc_z'],df1['Gyro_x'],df1['Gyro_y'],df1['Gyro_z'],df1['Leak %'],df1['Degree_rotation']]\n",
    " \n",
    "fig = plt.figure(figsize =(10, 7))\n",
    " \n",
    "# Creating axes instance\n",
    "ax = fig.add_axes([0, 0, 1, 1])\n",
    " \n",
    "# Creating plot\n",
    "bp = ax.boxplot(data)\n",
    " \n",
    "# show plot\n",
    "plt.show()"
   ]
  },
  {
   "cell_type": "code",
   "execution_count": null,
   "id": "f60c66cf",
   "metadata": {
    "scrolled": false
   },
   "outputs": [],
   "source": [
    "sns.catplot(y='value', col='variable', col_wrap=2,\n",
    "            data=df1.melt(), kind='box')"
   ]
  },
  {
   "cell_type": "code",
   "execution_count": 22,
   "id": "c18c1d50",
   "metadata": {},
   "outputs": [],
   "source": [
    "outliers = df1[(np.abs(zscore(df1)) > 3).all(axis=1)]"
   ]
  },
  {
   "cell_type": "code",
   "execution_count": 23,
   "id": "bdd5aba3",
   "metadata": {},
   "outputs": [],
   "source": [
    "data = df1[(np.abs(zscore(df1)) <= 3).all(axis=1)]"
   ]
  },
  {
   "cell_type": "code",
   "execution_count": null,
   "id": "24eae28f",
   "metadata": {},
   "outputs": [],
   "source": [
    "data.reset_index(drop=True,inplace=True)\n",
    "data"
   ]
  },
  {
   "cell_type": "markdown",
   "id": "c59bd904",
   "metadata": {},
   "source": [
    "### drop leak column"
   ]
  },
  {
   "cell_type": "code",
   "execution_count": null,
   "id": "9bfb46ed",
   "metadata": {},
   "outputs": [],
   "source": [
    "data=data.drop(['Leak %'], axis=1)\n",
    "data"
   ]
  },
  {
   "cell_type": "markdown",
   "id": "dc2e9616",
   "metadata": {},
   "source": [
    "### cleaned data to CSV"
   ]
  },
  {
   "cell_type": "code",
   "execution_count": 32,
   "id": "ba52a104",
   "metadata": {},
   "outputs": [],
   "source": [
    "data.to_csv(\"data/cleaned_data.csv\",index=False)"
   ]
  }
 ],
 "metadata": {
  "kernelspec": {
   "display_name": "Python 3 (ipykernel)",
   "language": "python",
   "name": "python3"
  },
  "language_info": {
   "codemirror_mode": {
    "name": "ipython",
    "version": 3
   },
   "file_extension": ".py",
   "mimetype": "text/x-python",
   "name": "python",
   "nbconvert_exporter": "python",
   "pygments_lexer": "ipython3",
   "version": "3.9.18"
  }
 },
 "nbformat": 4,
 "nbformat_minor": 5
}
