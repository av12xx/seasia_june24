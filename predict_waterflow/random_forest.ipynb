{
 "cells": [
  {
   "cell_type": "code",
   "execution_count": 1,
   "id": "114377d7",
   "metadata": {},
   "outputs": [],
   "source": [
    "import pandas as pd \n",
    "import seaborn as sns\n",
    "import numpy as np \n",
    "import matplotlib.pyplot as plt\n",
    "from sklearn.model_selection import train_test_split  \n",
    "from sklearn.ensemble import RandomForestClassifier  \n",
    "from sklearn.metrics import confusion_matrix  \n",
    "from sklearn.metrics import accuracy_score\n",
    "import pickle\n",
    "from sklearn.metrics import f1_score , precision_score,recall_score\n",
    "from sklearn.metrics import accuracy_score, classification_report\n",
    "from collections import Counter\n",
    "from imblearn.over_sampling import SMOTE"
   ]
  },
  {
   "cell_type": "code",
   "execution_count": 2,
   "id": "3673558f-eb2a-4833-bb3e-35e3b81cd8ac",
   "metadata": {},
   "outputs": [],
   "source": [
    "# pip install -U scikit-learn"
   ]
  },
  {
   "cell_type": "markdown",
   "id": "bed5f93d-5d6f-44aa-9887-a38c59def49f",
   "metadata": {},
   "source": [
    "### data prep\n"
   ]
  },
  {
   "cell_type": "code",
   "execution_count": 19,
   "id": "1ced1194",
   "metadata": {},
   "outputs": [],
   "source": [
    "data=pd.read_csv(\"data/cleaned_data.csv\")\n",
    "data"
   ]
  },
  {
   "cell_type": "code",
   "execution_count": 4,
   "id": "bb835466",
   "metadata": {},
   "outputs": [],
   "source": [
    "def grouping_(x):\n",
    "    if x<=30:\n",
    "        return 0\n",
    "    elif 30<x<300:\n",
    "        return 50\n",
    "    else:\n",
    "        return 100\n",
    "    \n",
    "data['Degree_rotation'] = data['Degree_rotation'].apply(lambda x :grouping_(x))"
   ]
  },
  {
   "cell_type": "code",
   "execution_count": 5,
   "id": "6b6f76c7",
   "metadata": {},
   "outputs": [],
   "source": [
    "x= data.iloc[:,:-1].values  \n",
    "y= data.iloc[:,-1].values  "
   ]
  },
  {
   "cell_type": "markdown",
   "id": "c26a0fb9",
   "metadata": {},
   "source": [
    "### data preprocessing"
   ]
  },
  {
   "cell_type": "code",
   "execution_count": 20,
   "id": "6fe083f5",
   "metadata": {},
   "outputs": [],
   "source": [
    "# transform the dataset\n",
    "oversample = SMOTE()\n",
    "x, y = oversample.fit_resample(x, y)\n",
    "# summarize distribution\n",
    "counter = Counter(y)\n",
    "for k,v in counter.items():\n",
    " per = v / len(y) * 100\n",
    " print('Class=%d, n=%d (%.3f%%)' % (k, v, per))\n",
    "# plot the distribution\n",
    "plt.bar(counter.keys(), counter.values())\n",
    "plt.show()"
   ]
  },
  {
   "cell_type": "code",
   "execution_count": 7,
   "id": "412a14eb",
   "metadata": {},
   "outputs": [],
   "source": [
    "x_train, x_test, y_train, y_test= train_test_split(x, y, test_size= 0.25, random_state=0, shuffle=True,stratify=y)"
   ]
  },
  {
   "cell_type": "markdown",
   "id": "3fe32663-4100-4094-bcfc-771bf6e5d1c2",
   "metadata": {},
   "source": [
    "### model training"
   ]
  },
  {
   "cell_type": "code",
   "execution_count": 21,
   "id": "a0856686",
   "metadata": {},
   "outputs": [],
   "source": [
    "model_R= RandomForestClassifier(n_estimators= 10, criterion=\"entropy\")  \n",
    "model_R.fit(x_train, y_train)  "
   ]
  },
  {
   "cell_type": "markdown",
   "id": "7484fed7-647e-4aa6-b598-edc030e2e225",
   "metadata": {},
   "source": [
    "### model evaluation"
   ]
  },
  {
   "cell_type": "code",
   "execution_count": 9,
   "id": "bd42f0ed",
   "metadata": {},
   "outputs": [
    {
     "data": {
      "text/plain": [
       "array([ 50,  50, 100, ...,   0, 100, 100])"
      ]
     },
     "execution_count": 9,
     "metadata": {},
     "output_type": "execute_result"
    }
   ],
   "source": [
    "y_pred_R= model_R.predict(x_test)  \n",
    "y_pred_R"
   ]
  },
  {
   "cell_type": "code",
   "execution_count": 10,
   "id": "654b339e",
   "metadata": {},
   "outputs": [],
   "source": [
    "cm= confusion_matrix(y_test, y_pred_R)  "
   ]
  },
  {
   "cell_type": "code",
   "execution_count": 22,
   "id": "ad1c320d",
   "metadata": {},
   "outputs": [],
   "source": [
    "accuracy = accuracy_score(y_test, y_pred_R)\n",
    "# print(\"Accuracy Score:\", accuracy)"
   ]
  },
  {
   "cell_type": "code",
   "execution_count": 13,
   "id": "1c19a09e",
   "metadata": {},
   "outputs": [
    {
     "name": "stdout",
     "output_type": "stream",
     "text": [
      "              precision    recall  f1-score   support\n",
      "\n",
      "           0       0.87      0.95      0.90     15797\n",
      "          50       0.92      0.79      0.85     15796\n",
      "         100       0.94      0.99      0.96     15796\n",
      "\n",
      "    accuracy                           0.91     47389\n",
      "   macro avg       0.91      0.91      0.91     47389\n",
      "weighted avg       0.91      0.91      0.91     47389\n",
      "\n"
     ]
    }
   ],
   "source": [
    "print(classification_report(y_test, y_pred_R))"
   ]
  },
  {
   "cell_type": "code",
   "execution_count": 28,
   "id": "d8410e46-117e-4dec-a6f8-8a5a7abafcf4",
   "metadata": {},
   "outputs": [],
   "source": [
    "import numpy as np\n",
    "from sklearn.metrics import confusion_matrix\n",
    "\n",
    "def accuracy_for_each_element(confusion_matrix):\n",
    "    num_classes = len(confusion_matrix)\n",
    "    accuracy_matrix = np.zeros((num_classes, num_classes), dtype=float)\n",
    "    for i in range(num_classes):\n",
    "        for j in range(num_classes):\n",
    "            accuracy_matrix[i, j] = round(cm[i, j]/cm.sum(axis=1)[i], 2)\n",
    "    return accuracy_matrix\n",
    "\n",
    "cm = confusion_matrix(y_test, y_pred_R)\n",
    "# print('Confusion matrix:\\n', cm)\n",
    "\n",
    "accuracy_matrix = accuracy_for_each_element(cm)\n",
    "# print(\"\\nAccuracy Matrix for Each Element:\", accuracy_matrix)\n",
    "\n",
    "group_counts = [value for value in accuracy_matrix.flatten()]\n",
    "\n",
    "labels = [v1 for v1 in group_counts]\n",
    "labels = np.asarray(labels).reshape(3,3)\n",
    "\n",
    "ht=sns.heatmap(cm, annot=labels, fmt='', cmap='Blues')\n",
    "ht.set_xticklabels(['0', '50', '100'])\n",
    "ht.set_yticklabels(['0', '50', '100'])\n",
    "\n",
    "plt.title(f'Random Forest Model Size - 29MB\\n{round(accuracy*100, 2)} accuracy')\n",
    "plt.xlabel(\"Predicted\")\n",
    "plt.ylabel(\"Actual\")\n",
    "plt.show()"
   ]
  },
  {
   "cell_type": "markdown",
   "id": "90354291-728d-4be3-b534-610bc50d6ff5",
   "metadata": {},
   "source": [
    "# save model"
   ]
  },
  {
   "cell_type": "code",
   "execution_count": 15,
   "id": "a55502a5-421f-4766-8ecf-5d9549c16eb7",
   "metadata": {},
   "outputs": [],
   "source": [
    "f='model_zoo/random_forest.pkl'\n",
    "pickle.dump(model_R,open(f,'wb'))"
   ]
  },
  {
   "cell_type": "markdown",
   "id": "7aa29f31",
   "metadata": {},
   "source": [
    "# Loading & Testing model"
   ]
  },
  {
   "cell_type": "code",
   "execution_count": 16,
   "id": "fc4f40e3",
   "metadata": {},
   "outputs": [],
   "source": [
    "model=pickle.load(open('model_zoo/random_forest.pkl','rb'))\n",
    "input_data = np.array([-722,-1918,-194,-15,-8,-1])\n",
    "result= model.predict([input_data])"
   ]
  },
  {
   "cell_type": "code",
   "execution_count": 17,
   "id": "6e139570",
   "metadata": {},
   "outputs": [
    {
     "data": {
      "text/plain": [
       "100"
      ]
     },
     "execution_count": 17,
     "metadata": {},
     "output_type": "execute_result"
    }
   ],
   "source": [
    "result[0]"
   ]
  }
 ],
 "metadata": {
  "kernelspec": {
   "display_name": "Python 3 (ipykernel)",
   "language": "python",
   "name": "python3"
  },
  "language_info": {
   "codemirror_mode": {
    "name": "ipython",
    "version": 3
   },
   "file_extension": ".py",
   "mimetype": "text/x-python",
   "name": "python",
   "nbconvert_exporter": "python",
   "pygments_lexer": "ipython3",
   "version": "3.9.18"
  }
 },
 "nbformat": 4,
 "nbformat_minor": 5
}
