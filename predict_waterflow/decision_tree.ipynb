{
 "cells": [
  {
   "cell_type": "code",
   "execution_count": 1,
   "id": "0d46b6da-4776-44fc-8771-aec63ad06bb1",
   "metadata": {},
   "outputs": [],
   "source": [
    "import pandas as pd \n",
    "from sklearn.model_selection import train_test_split  \n",
    "from sklearn.tree import DecisionTreeClassifier\n",
    "from sklearn.metrics import accuracy_score , classification_report, confusion_matrix\n",
    "import seaborn as sns\n",
    "import pickle\n",
    "import numpy as np \n",
    "from imblearn.over_sampling import SMOTE\n",
    "import matplotlib.pyplot as plt\n",
    "from collections import Counter"
   ]
  },
  {
   "cell_type": "markdown",
   "id": "5e825708-d218-4793-ae2c-4996d9b9d97c",
   "metadata": {},
   "source": [
    "### data prep"
   ]
  },
  {
   "cell_type": "code",
   "execution_count": 14,
   "id": "55d1ac18-09d5-4f32-8d39-5a42329097bd",
   "metadata": {},
   "outputs": [],
   "source": [
    "data=pd.read_csv(\"data/cleaned_data.csv\")\n",
    "data"
   ]
  },
  {
   "cell_type": "code",
   "execution_count": 3,
   "id": "db5466c9",
   "metadata": {},
   "outputs": [],
   "source": [
    "def grouping_(x):\n",
    "    if x<=30:\n",
    "        return 0\n",
    "    elif 30<x<300:\n",
    "        return 50\n",
    "    else:\n",
    "        return 100\n",
    "    \n",
    "data['Degree_rotation'] = data['Degree_rotation'].apply(lambda x :grouping_(x))"
   ]
  },
  {
   "cell_type": "code",
   "execution_count": 4,
   "id": "2dd540d0-6683-4bec-b413-90790c98f979",
   "metadata": {},
   "outputs": [],
   "source": [
    "x= data.iloc[:,:-1].values  \n",
    "y= data.iloc[:,-1].values  "
   ]
  },
  {
   "cell_type": "markdown",
   "id": "fcde6092",
   "metadata": {},
   "source": [
    "### data preprocessing"
   ]
  },
  {
   "cell_type": "code",
   "execution_count": 15,
   "id": "c0afd1ed",
   "metadata": {},
   "outputs": [],
   "source": [
    "# transform the dataset\n",
    "oversample = SMOTE()\n",
    "x, y = oversample.fit_resample(x, y)\n",
    "# summarize distribution\n",
    "counter = Counter(y)\n",
    "for k,v in counter.items():\n",
    "    per = v / len(y) * 100\n",
    "    print('Class=%d, n=%d (%.3f%%)' % (k, v, per))\n",
    "# plot the distribution\n",
    "plt.bar(counter.keys(), counter.values())\n",
    "plt.show()"
   ]
  },
  {
   "cell_type": "code",
   "execution_count": 6,
   "id": "f19c73d2",
   "metadata": {},
   "outputs": [],
   "source": [
    "x_train, x_test, y_train, y_test= train_test_split(x, y, test_size= 0.25, random_state=0, shuffle=True,stratify=y) "
   ]
  },
  {
   "cell_type": "markdown",
   "id": "f852bb60-da4c-4360-bb8b-948ca3087106",
   "metadata": {},
   "source": [
    "### model training"
   ]
  },
  {
   "cell_type": "code",
   "execution_count": 7,
   "id": "bc34ec37-1180-4287-bac1-1c1cb4fdcb86",
   "metadata": {},
   "outputs": [],
   "source": [
    "DS=DecisionTreeClassifier(criterion='entropy',random_state=200,max_depth=5,min_samples_leaf=7)"
   ]
  },
  {
   "cell_type": "code",
   "execution_count": 8,
   "id": "6215332a-506d-4ef7-8d08-d414913e2003",
   "metadata": {},
   "outputs": [],
   "source": [
    "DS=DS.fit(x_train,y_train)"
   ]
  },
  {
   "cell_type": "markdown",
   "id": "3df8daa1-c894-4569-9f4d-1bcd0434a90b",
   "metadata": {},
   "source": [
    "### model evaluation"
   ]
  },
  {
   "cell_type": "code",
   "execution_count": 9,
   "id": "f1db8c1c-7ffb-42af-9ae4-07e0477b294b",
   "metadata": {},
   "outputs": [
    {
     "data": {
      "text/plain": [
       "array([  0,   0,   0, ...,   0,   0, 100])"
      ]
     },
     "execution_count": 9,
     "metadata": {},
     "output_type": "execute_result"
    }
   ],
   "source": [
    "y_pred_DS=DS.predict(x_test)\n",
    "y_pred_DS"
   ]
  },
  {
   "cell_type": "code",
   "execution_count": 10,
   "id": "83f82894-885d-4e28-9f23-6a0189dfa18f",
   "metadata": {},
   "outputs": [
    {
     "name": "stdout",
     "output_type": "stream",
     "text": [
      "Accuracy Score: 0.6397054168688936\n",
      "\n",
      "              precision    recall  f1-score   support\n",
      "\n",
      "           0       0.55      0.94      0.69     15797\n",
      "          50       0.65      0.32      0.43     15796\n",
      "         100       0.84      0.66      0.74     15796\n",
      "\n",
      "    accuracy                           0.64     47389\n",
      "   macro avg       0.68      0.64      0.62     47389\n",
      "weighted avg       0.68      0.64      0.62     47389\n",
      "\n"
     ]
    }
   ],
   "source": [
    "accuracy = accuracy_score(y_test, y_pred_DS)\n",
    "print(\"Accuracy Score:\", accuracy)\n",
    "print()\n",
    "print(classification_report(y_test, y_pred_DS))"
   ]
  },
  {
   "cell_type": "code",
   "execution_count": 17,
   "id": "62b57797-50fd-4bc7-95e1-d605b961bd93",
   "metadata": {},
   "outputs": [],
   "source": [
    "import numpy as np\n",
    "from sklearn.metrics import confusion_matrix\n",
    "\n",
    "def accuracy_for_each_element(confusion_matrix):\n",
    "    num_classes = len(confusion_matrix)\n",
    "    accuracy_matrix = np.zeros((num_classes, num_classes), dtype=float)\n",
    "    for i in range(num_classes):\n",
    "        for j in range(num_classes):\n",
    "            accuracy_matrix[i, j] = round(cm[i, j]/cm.sum(axis=1)[i], 2)\n",
    "    return accuracy_matrix\n",
    "\n",
    "cm = confusion_matrix(y_test, y_pred_DS)\n",
    "# print('Confusion matrix:\\n', cm)\n",
    "\n",
    "accuracy_matrix = accuracy_for_each_element(cm)\n",
    "# print(\"\\nAccuracy Matrix for Each Element:\", accuracy_matrix)\n",
    "\n",
    "group_counts = [value for value in accuracy_matrix.flatten()]\n",
    "\n",
    "labels = [v1 for v1 in group_counts]\n",
    "labels = np.asarray(labels).reshape(3,3)\n",
    "\n",
    "ht=sns.heatmap(cm, annot=labels, fmt='', cmap='Blues')\n",
    "ht.set_xticklabels(['0', '50', '100'])\n",
    "ht.set_yticklabels(['0', '50', '100'])\n",
    "\n",
    "plt.title(f'Decisoin Tree Model Size - 6.5kB\\n{round(accuracy*100, 2)} accuracy')\n",
    "plt.xlabel(\"Predicted\")\n",
    "plt.ylabel(\"Actual\")\n",
    "plt.show()"
   ]
  },
  {
   "cell_type": "markdown",
   "id": "cc7950e6-11f7-4d47-97fc-629d9e004786",
   "metadata": {},
   "source": [
    "### save model"
   ]
  },
  {
   "cell_type": "code",
   "execution_count": 12,
   "id": "0a6cdc55-4f48-4e86-806b-c425b1f4588f",
   "metadata": {},
   "outputs": [],
   "source": [
    "f='model_zoo/decision_tree.pkl'\n",
    "pickle.dump(DS,open(f,'wb'))"
   ]
  },
  {
   "cell_type": "markdown",
   "id": "c10a0932",
   "metadata": {},
   "source": [
    "### model testing"
   ]
  },
  {
   "cell_type": "code",
   "execution_count": 19,
   "id": "102fa921",
   "metadata": {},
   "outputs": [],
   "source": [
    "model=pickle.load(open('model_zoo/decision_tree.pkl','rb'))\n",
    "input_data = np.array([-722,-1918,-194,-15,-8,-1])\n",
    "result= model.predict([input_data])"
   ]
  },
  {
   "cell_type": "code",
   "execution_count": null,
   "id": "8ec5e739",
   "metadata": {},
   "outputs": [],
   "source": [
    "result[0]"
   ]
  }
 ],
 "metadata": {
  "kernelspec": {
   "display_name": "Python 3 (ipykernel)",
   "language": "python",
   "name": "python3"
  },
  "language_info": {
   "codemirror_mode": {
    "name": "ipython",
    "version": 3
   },
   "file_extension": ".py",
   "mimetype": "text/x-python",
   "name": "python",
   "nbconvert_exporter": "python",
   "pygments_lexer": "ipython3",
   "version": "3.9.18"
  }
 },
 "nbformat": 4,
 "nbformat_minor": 5
}
