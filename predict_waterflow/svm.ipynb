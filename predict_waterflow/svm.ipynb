{
 "cells": [
  {
   "cell_type": "code",
   "execution_count": 1,
   "id": "b618a22e",
   "metadata": {},
   "outputs": [],
   "source": [
    "import pandas as pd\n",
    "import pickle\n",
    "import numpy as np \n",
    "from sklearn.svm import SVC\n",
    "from imblearn.over_sampling import SMOTE\n",
    "from sklearn.metrics import accuracy_score , classification_report, confusion_matrix\n",
    "import seaborn as sns\n",
    "from sklearn.model_selection import train_test_split  \n",
    "import matplotlib.pyplot as plt\n",
    "from collections import Counter\n",
    "from sklearn.model_selection import train_test_split  \n"
   ]
  },
  {
   "cell_type": "markdown",
   "id": "bb464a71-d718-4c6a-b4c3-bf982d43dbea",
   "metadata": {},
   "source": [
    "### data prep"
   ]
  },
  {
   "cell_type": "code",
   "execution_count": 2,
   "id": "b986e58d",
   "metadata": {
    "collapsed": true,
    "jupyter": {
     "outputs_hidden": true
    }
   },
   "outputs": [
    {
     "data": {
      "text/html": [
       "<div>\n",
       "<style scoped>\n",
       "    .dataframe tbody tr th:only-of-type {\n",
       "        vertical-align: middle;\n",
       "    }\n",
       "\n",
       "    .dataframe tbody tr th {\n",
       "        vertical-align: top;\n",
       "    }\n",
       "\n",
       "    .dataframe thead th {\n",
       "        text-align: right;\n",
       "    }\n",
       "</style>\n",
       "<table border=\"1\" class=\"dataframe\">\n",
       "  <thead>\n",
       "    <tr style=\"text-align: right;\">\n",
       "      <th></th>\n",
       "      <th>Acc_x</th>\n",
       "      <th>Acc_y</th>\n",
       "      <th>Acc_z</th>\n",
       "      <th>Gyro_x</th>\n",
       "      <th>Gyro_y</th>\n",
       "      <th>Gyro_z</th>\n",
       "      <th>Degree_rotation</th>\n",
       "    </tr>\n",
       "  </thead>\n",
       "  <tbody>\n",
       "    <tr>\n",
       "      <th>0</th>\n",
       "      <td>-131</td>\n",
       "      <td>-2039</td>\n",
       "      <td>-126</td>\n",
       "      <td>-16</td>\n",
       "      <td>-4</td>\n",
       "      <td>-6</td>\n",
       "      <td>0</td>\n",
       "    </tr>\n",
       "    <tr>\n",
       "      <th>1</th>\n",
       "      <td>-135</td>\n",
       "      <td>-2038</td>\n",
       "      <td>-119</td>\n",
       "      <td>-18</td>\n",
       "      <td>-4</td>\n",
       "      <td>-7</td>\n",
       "      <td>0</td>\n",
       "    </tr>\n",
       "    <tr>\n",
       "      <th>2</th>\n",
       "      <td>-131</td>\n",
       "      <td>-2039</td>\n",
       "      <td>-127</td>\n",
       "      <td>-17</td>\n",
       "      <td>-3</td>\n",
       "      <td>-7</td>\n",
       "      <td>0</td>\n",
       "    </tr>\n",
       "    <tr>\n",
       "      <th>3</th>\n",
       "      <td>-132</td>\n",
       "      <td>-2035</td>\n",
       "      <td>-118</td>\n",
       "      <td>-18</td>\n",
       "      <td>-4</td>\n",
       "      <td>-7</td>\n",
       "      <td>0</td>\n",
       "    </tr>\n",
       "    <tr>\n",
       "      <th>4</th>\n",
       "      <td>-131</td>\n",
       "      <td>-2039</td>\n",
       "      <td>-128</td>\n",
       "      <td>-18</td>\n",
       "      <td>-4</td>\n",
       "      <td>-7</td>\n",
       "      <td>0</td>\n",
       "    </tr>\n",
       "    <tr>\n",
       "      <th>...</th>\n",
       "      <td>...</td>\n",
       "      <td>...</td>\n",
       "      <td>...</td>\n",
       "      <td>...</td>\n",
       "      <td>...</td>\n",
       "      <td>...</td>\n",
       "      <td>...</td>\n",
       "    </tr>\n",
       "    <tr>\n",
       "      <th>72770</th>\n",
       "      <td>1</td>\n",
       "      <td>-2043</td>\n",
       "      <td>-85</td>\n",
       "      <td>-20</td>\n",
       "      <td>-2</td>\n",
       "      <td>-1</td>\n",
       "      <td>250</td>\n",
       "    </tr>\n",
       "    <tr>\n",
       "      <th>72771</th>\n",
       "      <td>10</td>\n",
       "      <td>-2046</td>\n",
       "      <td>-91</td>\n",
       "      <td>-21</td>\n",
       "      <td>-1</td>\n",
       "      <td>0</td>\n",
       "      <td>250</td>\n",
       "    </tr>\n",
       "    <tr>\n",
       "      <th>72772</th>\n",
       "      <td>11</td>\n",
       "      <td>-2045</td>\n",
       "      <td>-95</td>\n",
       "      <td>-19</td>\n",
       "      <td>-3</td>\n",
       "      <td>1</td>\n",
       "      <td>250</td>\n",
       "    </tr>\n",
       "    <tr>\n",
       "      <th>72773</th>\n",
       "      <td>9</td>\n",
       "      <td>-2046</td>\n",
       "      <td>-89</td>\n",
       "      <td>-19</td>\n",
       "      <td>-4</td>\n",
       "      <td>-1</td>\n",
       "      <td>250</td>\n",
       "    </tr>\n",
       "    <tr>\n",
       "      <th>72774</th>\n",
       "      <td>-2</td>\n",
       "      <td>-2042</td>\n",
       "      <td>-92</td>\n",
       "      <td>-20</td>\n",
       "      <td>-4</td>\n",
       "      <td>2</td>\n",
       "      <td>250</td>\n",
       "    </tr>\n",
       "  </tbody>\n",
       "</table>\n",
       "<p>72775 rows × 7 columns</p>\n",
       "</div>"
      ],
      "text/plain": [
       "       Acc_x  Acc_y  Acc_z  Gyro_x  Gyro_y  Gyro_z  Degree_rotation\n",
       "0       -131  -2039   -126     -16      -4      -6                0\n",
       "1       -135  -2038   -119     -18      -4      -7                0\n",
       "2       -131  -2039   -127     -17      -3      -7                0\n",
       "3       -132  -2035   -118     -18      -4      -7                0\n",
       "4       -131  -2039   -128     -18      -4      -7                0\n",
       "...      ...    ...    ...     ...     ...     ...              ...\n",
       "72770      1  -2043    -85     -20      -2      -1              250\n",
       "72771     10  -2046    -91     -21      -1       0              250\n",
       "72772     11  -2045    -95     -19      -3       1              250\n",
       "72773      9  -2046    -89     -19      -4      -1              250\n",
       "72774     -2  -2042    -92     -20      -4       2              250\n",
       "\n",
       "[72775 rows x 7 columns]"
      ]
     },
     "execution_count": 2,
     "metadata": {},
     "output_type": "execute_result"
    }
   ],
   "source": [
    "data=pd.read_csv(\"data/cleaned_data.csv\")\n",
    "data"
   ]
  },
  {
   "cell_type": "code",
   "execution_count": 3,
   "id": "e41a6a83",
   "metadata": {},
   "outputs": [],
   "source": [
    "def grouping_(x):\n",
    "    if x<=30:\n",
    "        return 0\n",
    "    elif 30<x<300:\n",
    "        return 50\n",
    "    else:\n",
    "        return 100"
   ]
  },
  {
   "cell_type": "code",
   "execution_count": 19,
   "id": "b912c8b3",
   "metadata": {},
   "outputs": [],
   "source": [
    "data['Degree_rotation'] = data['Degree_rotation'].apply(lambda x :grouping_(x))\n",
    "data"
   ]
  },
  {
   "cell_type": "markdown",
   "id": "9be79a9b",
   "metadata": {},
   "source": [
    "### data preprocessing"
   ]
  },
  {
   "cell_type": "code",
   "execution_count": 18,
   "id": "b7867584",
   "metadata": {},
   "outputs": [],
   "source": [
    "# example of oversampling a multi-class classification dataset\n",
    "\n",
    "x= data.iloc[:,:-1].values  \n",
    "y= data.iloc[:,-1].values \n",
    "# transform the dataset\n",
    "oversample = SMOTE()\n",
    "x, y = oversample.fit_resample(x, y)\n",
    "# summarize distribution\n",
    "counter = Counter(y)\n",
    "for k,v in counter.items():\n",
    " per = v / len(y) * 100\n",
    " print('Class=%d, n=%d (%.3f%%)' % (k, v, per))\n",
    "# plot the distribution\n",
    "plt.bar(counter.keys(), counter.values())\n",
    "plt.show()"
   ]
  },
  {
   "cell_type": "markdown",
   "id": "f5334afd",
   "metadata": {},
   "source": [
    "### model training"
   ]
  },
  {
   "cell_type": "code",
   "execution_count": 6,
   "id": "3ba1286e",
   "metadata": {},
   "outputs": [],
   "source": [
    "x_train, x_test, y_train, y_test= train_test_split(x, y, test_size= 0.25, random_state=0, shuffle=True,stratify=y)"
   ]
  },
  {
   "cell_type": "code",
   "execution_count": 20,
   "id": "ac692602",
   "metadata": {},
   "outputs": [],
   "source": [
    "svm=SVC(kernel='rbf',gamma=0.5,C=1.0)\n",
    "svm.fit(x_train,y_train)"
   ]
  },
  {
   "cell_type": "markdown",
   "id": "6381d300",
   "metadata": {},
   "source": [
    "# Evaluation"
   ]
  },
  {
   "cell_type": "code",
   "execution_count": 21,
   "id": "20443844",
   "metadata": {},
   "outputs": [],
   "source": [
    "y_pred_svm= svm.predict(x_test)  \n",
    "y_pred_svm"
   ]
  },
  {
   "cell_type": "code",
   "execution_count": 22,
   "id": "1d0b2b1e",
   "metadata": {},
   "outputs": [],
   "source": [
    "accuracy = accuracy_score(y_test, y_pred_svm)\n",
    "print(\"Accuracy Score:\", accuracy)"
   ]
  },
  {
   "cell_type": "code",
   "execution_count": 23,
   "id": "b3f6c105-df3d-4c91-b30f-cff77f356248",
   "metadata": {},
   "outputs": [],
   "source": [
    "import numpy as np\n",
    "from sklearn.metrics import confusion_matrix\n",
    "\n",
    "def accuracy_for_each_element(confusion_matrix):\n",
    "    num_classes = len(confusion_matrix)\n",
    "    accuracy_matrix = np.zeros((num_classes, num_classes), dtype=float)\n",
    "    for i in range(num_classes):\n",
    "        for j in range(num_classes):\n",
    "            accuracy_matrix[i, j] = round(cm[i, j]/cm.sum(axis=1)[i], 2)\n",
    "    return accuracy_matrix\n",
    "\n",
    "cm = confusion_matrix(y_test, y_pred_svm)\n",
    "# print('Confusion matrix:\\n', cm)\n",
    "\n",
    "accuracy_matrix = accuracy_for_each_element(cm)\n",
    "# print(\"\\nAccuracy Matrix for Each Element:\", accuracy_matrix)\n",
    "\n",
    "group_counts = [value for value in accuracy_matrix.flatten()]\n",
    "\n",
    "labels = [v1 for v1 in group_counts]\n",
    "labels = np.asarray(labels).reshape(3,3)\n",
    "\n",
    "ht=sns.heatmap(cm, annot=labels, fmt='', cmap='Blues')\n",
    "ht.set_xticklabels(['0', '50', '100'])\n",
    "ht.set_yticklabels(['0', '50', '100'])\n",
    "\n",
    "plt.title(f'SVM Model Size - 6.2MB\\n{round(accuracy*100, 2)} accuracy')\n",
    "plt.xlabel(\"Predicted\")\n",
    "plt.ylabel(\"Actual\")\n",
    "plt.show()"
   ]
  },
  {
   "cell_type": "code",
   "execution_count": 11,
   "id": "8d110613",
   "metadata": {},
   "outputs": [
    {
     "name": "stdout",
     "output_type": "stream",
     "text": [
      "              precision    recall  f1-score   support\n",
      "\n",
      "           0       0.87      0.95      0.91     15797\n",
      "          50       0.93      0.76      0.84     15796\n",
      "         100       0.90      1.00      0.95     15796\n",
      "\n",
      "    accuracy                           0.90     47389\n",
      "   macro avg       0.90      0.90      0.90     47389\n",
      "weighted avg       0.90      0.90      0.90     47389\n",
      "\n"
     ]
    }
   ],
   "source": [
    "print(classification_report(y_test, y_pred_svm))"
   ]
  },
  {
   "cell_type": "markdown",
   "id": "18f590a0-72aa-417d-b8f6-6c0309c8a2f3",
   "metadata": {},
   "source": [
    "### save model"
   ]
  },
  {
   "cell_type": "code",
   "execution_count": 12,
   "id": "3776973d",
   "metadata": {},
   "outputs": [],
   "source": [
    "f='model_zoo/svm.pkl'\n",
    "pickle.dump(svm,open(f,'wb'))"
   ]
  },
  {
   "cell_type": "code",
   "execution_count": 13,
   "id": "98c07eca",
   "metadata": {},
   "outputs": [],
   "source": [
    "model=pickle.load(open('model_zoo/svm.pkl','rb'))"
   ]
  },
  {
   "cell_type": "markdown",
   "id": "29caa715-c13d-4d14-a2b4-e7c52f064e6d",
   "metadata": {},
   "source": [
    "### model testing"
   ]
  },
  {
   "cell_type": "code",
   "execution_count": 14,
   "id": "f6d8348f",
   "metadata": {},
   "outputs": [],
   "source": [
    "input_data = np.array([-131,-2037,-127,-17,-6,-7])"
   ]
  },
  {
   "cell_type": "code",
   "execution_count": 15,
   "id": "9d362017",
   "metadata": {},
   "outputs": [],
   "source": [
    "result= model.predict([input_data])"
   ]
  },
  {
   "cell_type": "code",
   "execution_count": 16,
   "id": "0e4c7685",
   "metadata": {},
   "outputs": [
    {
     "data": {
      "text/plain": [
       "50"
      ]
     },
     "execution_count": 16,
     "metadata": {},
     "output_type": "execute_result"
    }
   ],
   "source": [
    "result[0]"
   ]
  }
 ],
 "metadata": {
  "kernelspec": {
   "display_name": "Python 3 (ipykernel)",
   "language": "python",
   "name": "python3"
  },
  "language_info": {
   "codemirror_mode": {
    "name": "ipython",
    "version": 3
   },
   "file_extension": ".py",
   "mimetype": "text/x-python",
   "name": "python",
   "nbconvert_exporter": "python",
   "pygments_lexer": "ipython3",
   "version": "3.9.18"
  }
 },
 "nbformat": 4,
 "nbformat_minor": 5
}
