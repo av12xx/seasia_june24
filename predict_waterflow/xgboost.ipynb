{
 "cells": [
  {
   "cell_type": "code",
   "execution_count": 1,
   "id": "6c83ba53",
   "metadata": {},
   "outputs": [],
   "source": [
    "import pandas as pd \n",
    "from sklearn.model_selection import train_test_split  \n",
    "from xgboost import XGBClassifier\n",
    "from sklearn.metrics import accuracy_score , classification_report, confusion_matrix\n",
    "import pickle\n",
    "import numpy as np \n",
    "from imblearn.over_sampling import SMOTE\n",
    "import matplotlib.pyplot as plt\n",
    "from collections import Counter\n",
    "import seaborn as sns"
   ]
  },
  {
   "cell_type": "code",
   "execution_count": 2,
   "id": "17360207",
   "metadata": {},
   "outputs": [
    {
     "data": {
      "text/html": [
       "<div>\n",
       "<style scoped>\n",
       "    .dataframe tbody tr th:only-of-type {\n",
       "        vertical-align: middle;\n",
       "    }\n",
       "\n",
       "    .dataframe tbody tr th {\n",
       "        vertical-align: top;\n",
       "    }\n",
       "\n",
       "    .dataframe thead th {\n",
       "        text-align: right;\n",
       "    }\n",
       "</style>\n",
       "<table border=\"1\" class=\"dataframe\">\n",
       "  <thead>\n",
       "    <tr style=\"text-align: right;\">\n",
       "      <th></th>\n",
       "      <th>Acc_x</th>\n",
       "      <th>Acc_y</th>\n",
       "      <th>Acc_z</th>\n",
       "      <th>Gyro_x</th>\n",
       "      <th>Gyro_y</th>\n",
       "      <th>Gyro_z</th>\n",
       "      <th>Degree_rotation</th>\n",
       "    </tr>\n",
       "  </thead>\n",
       "  <tbody>\n",
       "    <tr>\n",
       "      <th>0</th>\n",
       "      <td>-131</td>\n",
       "      <td>-2039</td>\n",
       "      <td>-126</td>\n",
       "      <td>-16</td>\n",
       "      <td>-4</td>\n",
       "      <td>-6</td>\n",
       "      <td>0</td>\n",
       "    </tr>\n",
       "    <tr>\n",
       "      <th>1</th>\n",
       "      <td>-135</td>\n",
       "      <td>-2038</td>\n",
       "      <td>-119</td>\n",
       "      <td>-18</td>\n",
       "      <td>-4</td>\n",
       "      <td>-7</td>\n",
       "      <td>0</td>\n",
       "    </tr>\n",
       "    <tr>\n",
       "      <th>2</th>\n",
       "      <td>-131</td>\n",
       "      <td>-2039</td>\n",
       "      <td>-127</td>\n",
       "      <td>-17</td>\n",
       "      <td>-3</td>\n",
       "      <td>-7</td>\n",
       "      <td>0</td>\n",
       "    </tr>\n",
       "    <tr>\n",
       "      <th>3</th>\n",
       "      <td>-132</td>\n",
       "      <td>-2035</td>\n",
       "      <td>-118</td>\n",
       "      <td>-18</td>\n",
       "      <td>-4</td>\n",
       "      <td>-7</td>\n",
       "      <td>0</td>\n",
       "    </tr>\n",
       "    <tr>\n",
       "      <th>4</th>\n",
       "      <td>-131</td>\n",
       "      <td>-2039</td>\n",
       "      <td>-128</td>\n",
       "      <td>-18</td>\n",
       "      <td>-4</td>\n",
       "      <td>-7</td>\n",
       "      <td>0</td>\n",
       "    </tr>\n",
       "    <tr>\n",
       "      <th>...</th>\n",
       "      <td>...</td>\n",
       "      <td>...</td>\n",
       "      <td>...</td>\n",
       "      <td>...</td>\n",
       "      <td>...</td>\n",
       "      <td>...</td>\n",
       "      <td>...</td>\n",
       "    </tr>\n",
       "    <tr>\n",
       "      <th>72770</th>\n",
       "      <td>1</td>\n",
       "      <td>-2043</td>\n",
       "      <td>-85</td>\n",
       "      <td>-20</td>\n",
       "      <td>-2</td>\n",
       "      <td>-1</td>\n",
       "      <td>250</td>\n",
       "    </tr>\n",
       "    <tr>\n",
       "      <th>72771</th>\n",
       "      <td>10</td>\n",
       "      <td>-2046</td>\n",
       "      <td>-91</td>\n",
       "      <td>-21</td>\n",
       "      <td>-1</td>\n",
       "      <td>0</td>\n",
       "      <td>250</td>\n",
       "    </tr>\n",
       "    <tr>\n",
       "      <th>72772</th>\n",
       "      <td>11</td>\n",
       "      <td>-2045</td>\n",
       "      <td>-95</td>\n",
       "      <td>-19</td>\n",
       "      <td>-3</td>\n",
       "      <td>1</td>\n",
       "      <td>250</td>\n",
       "    </tr>\n",
       "    <tr>\n",
       "      <th>72773</th>\n",
       "      <td>9</td>\n",
       "      <td>-2046</td>\n",
       "      <td>-89</td>\n",
       "      <td>-19</td>\n",
       "      <td>-4</td>\n",
       "      <td>-1</td>\n",
       "      <td>250</td>\n",
       "    </tr>\n",
       "    <tr>\n",
       "      <th>72774</th>\n",
       "      <td>-2</td>\n",
       "      <td>-2042</td>\n",
       "      <td>-92</td>\n",
       "      <td>-20</td>\n",
       "      <td>-4</td>\n",
       "      <td>2</td>\n",
       "      <td>250</td>\n",
       "    </tr>\n",
       "  </tbody>\n",
       "</table>\n",
       "<p>72775 rows × 7 columns</p>\n",
       "</div>"
      ],
      "text/plain": [
       "       Acc_x  Acc_y  Acc_z  Gyro_x  Gyro_y  Gyro_z  Degree_rotation\n",
       "0       -131  -2039   -126     -16      -4      -6                0\n",
       "1       -135  -2038   -119     -18      -4      -7                0\n",
       "2       -131  -2039   -127     -17      -3      -7                0\n",
       "3       -132  -2035   -118     -18      -4      -7                0\n",
       "4       -131  -2039   -128     -18      -4      -7                0\n",
       "...      ...    ...    ...     ...     ...     ...              ...\n",
       "72770      1  -2043    -85     -20      -2      -1              250\n",
       "72771     10  -2046    -91     -21      -1       0              250\n",
       "72772     11  -2045    -95     -19      -3       1              250\n",
       "72773      9  -2046    -89     -19      -4      -1              250\n",
       "72774     -2  -2042    -92     -20      -4       2              250\n",
       "\n",
       "[72775 rows x 7 columns]"
      ]
     },
     "execution_count": 2,
     "metadata": {},
     "output_type": "execute_result"
    }
   ],
   "source": [
    "data = pd.read_csv('data/cleaned_data.csv')\n",
    "data"
   ]
  },
  {
   "cell_type": "markdown",
   "id": "9778a7e4",
   "metadata": {},
   "source": [
    "### data prep"
   ]
  },
  {
   "cell_type": "code",
   "execution_count": 3,
   "id": "35321247",
   "metadata": {},
   "outputs": [],
   "source": [
    "def grouping_(x):\n",
    "    if x<=30:\n",
    "        return 0\n",
    "    elif 30<x<280:\n",
    "        return 1\n",
    "    elif 280<x<360:\n",
    "        return 2\n",
    "    \n",
    "data['Degree_rotation'] = data['Degree_rotation'].apply(lambda x :grouping_(x))"
   ]
  },
  {
   "cell_type": "code",
   "execution_count": 4,
   "id": "930bcc83",
   "metadata": {},
   "outputs": [],
   "source": [
    "x= data.iloc[:,:-1].values  \n",
    "y= data.iloc[:,-1].values  "
   ]
  },
  {
   "cell_type": "markdown",
   "id": "788e1931",
   "metadata": {},
   "source": [
    "### data preprocessing"
   ]
  },
  {
   "cell_type": "code",
   "execution_count": 13,
   "id": "e223f829",
   "metadata": {},
   "outputs": [],
   "source": [
    "# transform the dataset\n",
    "oversample = SMOTE()\n",
    "x, y = oversample.fit_resample(x, y)\n",
    "# summarize distribution\n",
    "counter = Counter(y)\n",
    "for k,v in counter.items():\n",
    "    per = v / len(y) * 100\n",
    "    print('Class=%d, n=%d (%.3f%%)' % (k, v, per))\n",
    "# plot the distribution\n",
    "plt.bar(counter.keys(), counter.values())\n",
    "plt.show()"
   ]
  },
  {
   "cell_type": "code",
   "execution_count": 6,
   "id": "3f8f75c0",
   "metadata": {},
   "outputs": [],
   "source": [
    "x_train, x_test, y_train, y_test= train_test_split(x, y, test_size= 0.2, random_state=0, shuffle=True, stratify=y)"
   ]
  },
  {
   "cell_type": "markdown",
   "id": "1084b48c",
   "metadata": {},
   "source": [
    "### Model training"
   ]
  },
  {
   "cell_type": "code",
   "execution_count": 14,
   "id": "99676561",
   "metadata": {},
   "outputs": [],
   "source": [
    "# fit model no training data\n",
    "XG_model = XGBClassifier()\n",
    "XG_model.fit(x_train, y_train)"
   ]
  },
  {
   "cell_type": "markdown",
   "id": "80c32a2a",
   "metadata": {},
   "source": [
    "### Model Evaluation"
   ]
  },
  {
   "cell_type": "code",
   "execution_count": 8,
   "id": "7c0c7d06",
   "metadata": {},
   "outputs": [],
   "source": [
    "# make predictions for test data\n",
    "y_pred_XG = XG_model.predict(x_test)"
   ]
  },
  {
   "cell_type": "code",
   "execution_count": 15,
   "id": "602b830e",
   "metadata": {},
   "outputs": [
    {
     "name": "stdout",
     "output_type": "stream",
     "text": [
      "Accuracy Score: 0.8633641950884967\n",
      "\n",
      "              precision    recall  f1-score   support\n",
      "\n",
      "           0       0.80      0.93      0.86     12637\n",
      "           1       0.88      0.69      0.77     12637\n",
      "           2       0.92      0.97      0.95     12637\n",
      "\n",
      "    accuracy                           0.86     37911\n",
      "   macro avg       0.87      0.86      0.86     37911\n",
      "weighted avg       0.87      0.86      0.86     37911\n",
      "\n"
     ]
    }
   ],
   "source": [
    "accuracy = accuracy_score(y_test, y_pred_XG)\n",
    "print(\"Accuracy Score:\", accuracy)\n",
    "print()\n",
    "print(classification_report(y_test, y_pred_XG))"
   ]
  },
  {
   "cell_type": "code",
   "execution_count": 25,
   "id": "b6c51763-b388-4023-b9b8-de1c2c625f8c",
   "metadata": {},
   "outputs": [],
   "source": [
    "import numpy as np\n",
    "from sklearn.metrics import confusion_matrix\n",
    "\n",
    "def accuracy_for_each_element(confusion_matrix):\n",
    "    num_classes = len(confusion_matrix)\n",
    "    accuracy_matrix = np.zeros((num_classes, num_classes), dtype=float)\n",
    "    for i in range(num_classes):\n",
    "        for j in range(num_classes):\n",
    "            accuracy_matrix[i, j] = round(cm[i, j]/cm.sum(axis=1)[i], 2)\n",
    "    return accuracy_matrix\n",
    "\n",
    "cm = confusion_matrix(y_test, y_pred_XG)\n",
    "# print('Confusion matrix:\\n', cm)\n",
    "\n",
    "accuracy_matrix = accuracy_for_each_element(cm)\n",
    "# print(\"\\nAccuracy Matrix for Each Element:\", accuracy_matrix)\n",
    "\n",
    "group_counts = [value for value in accuracy_matrix.flatten()]\n",
    "\n",
    "labels = [v1 for v1 in group_counts]\n",
    "labels = np.asarray(labels).reshape(3,3)\n",
    "\n",
    "ht=sns.heatmap(cm, annot=labels, fmt='', cmap='Blues')\n",
    "ht.set_xticklabels(['0', '50', '100'])\n",
    "ht.set_yticklabels(['0', '50', '100'])\n",
    "\n",
    "plt.title(f'XGBoost Model Size - 1.1MB\\n{round(accuracy*100, 2)} accuracy')\n",
    "plt.xlabel(\"Predicted\")\n",
    "plt.ylabel(\"Actual\")\n",
    "plt.show()"
   ]
  },
  {
   "cell_type": "markdown",
   "id": "0d688b87",
   "metadata": {},
   "source": [
    "### Save model"
   ]
  },
  {
   "cell_type": "code",
   "execution_count": 11,
   "id": "265201ab",
   "metadata": {},
   "outputs": [],
   "source": [
    "f='model_zoo/xg_classifier.pkl'\n",
    "pickle.dump(XG_model,open(f,'wb'))"
   ]
  },
  {
   "cell_type": "markdown",
   "id": "44818cf9",
   "metadata": {},
   "source": [
    "### Model testing"
   ]
  },
  {
   "cell_type": "code",
   "execution_count": 12,
   "id": "96dc202a",
   "metadata": {},
   "outputs": [
    {
     "name": "stdout",
     "output_type": "stream",
     "text": [
      "50\n"
     ]
    }
   ],
   "source": [
    "model=pickle.load(open('model_zoo/xg_classifier.pkl','rb'))\n",
    "input_data = np.array([-648,-1938,-126,-19,-4,1])\n",
    "result= model.predict([input_data])\n",
    "if result[0]==0:\n",
    "    print(0)\n",
    "elif result[0]==1:\n",
    "    print(50)\n",
    "else:\n",
    "    print(100)"
   ]
  }
 ],
 "metadata": {
  "kernelspec": {
   "display_name": "Python 3 (ipykernel)",
   "language": "python",
   "name": "python3"
  },
  "language_info": {
   "codemirror_mode": {
    "name": "ipython",
    "version": 3
   },
   "file_extension": ".py",
   "mimetype": "text/x-python",
   "name": "python",
   "nbconvert_exporter": "python",
   "pygments_lexer": "ipython3",
   "version": "3.9.18"
  }
 },
 "nbformat": 4,
 "nbformat_minor": 5
}
