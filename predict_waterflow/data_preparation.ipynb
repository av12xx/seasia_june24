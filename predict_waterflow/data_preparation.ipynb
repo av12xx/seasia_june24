{
 "cells": [
  {
   "cell_type": "code",
   "execution_count": 1,
   "id": "5dfb2e16",
   "metadata": {},
   "outputs": [],
   "source": [
    "import pandas as pd\n",
    "import os\n",
    "import glob\n",
    "from pathlib import Path "
   ]
  },
  {
   "cell_type": "code",
   "execution_count": 2,
   "id": "4c7387e8",
   "metadata": {},
   "outputs": [],
   "source": [
    "base_dir=os.getcwd()\n",
    "print('base dir: ', base_dir)\n",
    "\n",
    "root_dir=os.path.join(base_dir,'water_flow')\n",
    "print('root dir: ', root_dir)"
   ]
  },
  {
   "cell_type": "markdown",
   "id": "50db69c3",
   "metadata": {},
   "source": [
    "### convert text files to list"
   ]
  },
  {
   "cell_type": "code",
   "execution_count": null,
   "id": "826a1bf0",
   "metadata": {},
   "outputs": [],
   "source": [
    "file_txt=[]\n",
    "for root,dirs,files in os.walk(root_dir):\n",
    "    for file in files:\n",
    "        if file.endswith('.txt'):\n",
    "            file_txt.append(os.path.join(root,file))\n",
    "file_txt        "
   ]
  },
  {
   "cell_type": "code",
   "execution_count": null,
   "id": "3adf36ac",
   "metadata": {},
   "outputs": [],
   "source": [
    "list_df=[]\n",
    "for i in file_txt:\n",
    "    P=Path(i).stem.split('f')[0]\n",
    "    df = pd.read_fwf(i,sep=',',header=None)\n",
    "    z =df[0][0].split('_')\n",
    "    df=df[1:]\n",
    "    df[['Acc_x','Acc_y','Acc_z','Gyro_x','Gyro_y','Gyro_z','Temp']] = df[df.columns[0]].str.split(',', expand=True)\n",
    "    df1=df.iloc[1:, 1:-1]\n",
    "    df1.reset_index(drop=True,inplace=True)\n",
    "    df1['Leak %']=z[-1]\n",
    "    df1['Degree_rotation']=P\n",
    "    list_df.append(df1)\n",
    "\n",
    "list_df"
   ]
  },
  {
   "cell_type": "markdown",
   "id": "18fde750",
   "metadata": {},
   "source": [
    "### list to dataframe to CSV"
   ]
  },
  {
   "cell_type": "code",
   "execution_count": 6,
   "id": "87637db9",
   "metadata": {},
   "outputs": [],
   "source": [
    "vertical_concat = pd.concat(list_df, axis=0)"
   ]
  },
  {
   "cell_type": "code",
   "execution_count": 7,
   "id": "4e8d55fc",
   "metadata": {},
   "outputs": [],
   "source": [
    "vertical_concat.reset_index(drop=True,inplace=True)"
   ]
  },
  {
   "cell_type": "code",
   "execution_count": 8,
   "id": "fd492f92",
   "metadata": {},
   "outputs": [],
   "source": [
    "# vertical_concat['Degree_rotation'].value_counts()"
   ]
  },
  {
   "cell_type": "code",
   "execution_count": 10,
   "id": "e29699dd",
   "metadata": {},
   "outputs": [],
   "source": [
    "vertical_concat['Leak %']=vertical_concat['Leak %'].astype(int)\n",
    "vertical_concat['Degree_rotation']=vertical_concat['Degree_rotation'].astype(int)"
   ]
  },
  {
   "cell_type": "code",
   "execution_count": 11,
   "id": "dc0e255c",
   "metadata": {},
   "outputs": [],
   "source": [
    "vertical_concat.to_csv('data/final_data.csv',index=False)"
   ]
  }
 ],
 "metadata": {
  "kernelspec": {
   "display_name": "Python 3 (ipykernel)",
   "language": "python",
   "name": "python3"
  },
  "language_info": {
   "codemirror_mode": {
    "name": "ipython",
    "version": 3
   },
   "file_extension": ".py",
   "mimetype": "text/x-python",
   "name": "python",
   "nbconvert_exporter": "python",
   "pygments_lexer": "ipython3",
   "version": "3.9.18"
  }
 },
 "nbformat": 4,
 "nbformat_minor": 5
}
