{
 "cells": [
  {
   "cell_type": "code",
   "execution_count": 1,
   "id": "0eb14d9f",
   "metadata": {},
   "outputs": [],
   "source": [
    "import pandas as pd \n",
    "import seaborn as sns\n",
    "import numpy as np \n",
    "import matplotlib.pyplot as plt \n",
    "from sklearn.model_selection import train_test_split   \n",
    "from sklearn.metrics import confusion_matrix  \n",
    "from sklearn.metrics import accuracy_score\n",
    "import pickle\n",
    "from sklearn.naive_bayes import GaussianNB\n",
    "from sklearn.metrics import accuracy_score, classification_report\n",
    "from collections import Counter\n",
    "from imblearn.over_sampling import SMOTE"
   ]
  },
  {
   "cell_type": "markdown",
   "id": "6888029f",
   "metadata": {},
   "source": [
    "### data prep"
   ]
  },
  {
   "cell_type": "code",
   "execution_count": 22,
   "id": "7297ceab",
   "metadata": {},
   "outputs": [],
   "source": [
    "data=pd.read_csv(\"data/cleaned_data.csv\")\n",
    "data"
   ]
  },
  {
   "cell_type": "code",
   "execution_count": 19,
   "id": "5f3380b7",
   "metadata": {},
   "outputs": [],
   "source": [
    "data['Degree_rotation'].value_counts()"
   ]
  },
  {
   "cell_type": "code",
   "execution_count": 4,
   "id": "f8822206",
   "metadata": {},
   "outputs": [],
   "source": [
    "def grouping_(x):\n",
    "    if x<=30:\n",
    "        return 0\n",
    "    elif 30<x<300:\n",
    "        return 50\n",
    "    else:\n",
    "        return 100\n",
    "    \n",
    "data['Degree_rotation'] = data['Degree_rotation'].apply(lambda x :grouping_(x))"
   ]
  },
  {
   "cell_type": "code",
   "execution_count": 20,
   "id": "8b09ff09",
   "metadata": {},
   "outputs": [],
   "source": [
    "data['Degree_rotation'].value_counts()"
   ]
  },
  {
   "cell_type": "code",
   "execution_count": 21,
   "id": "48b943ad",
   "metadata": {},
   "outputs": [],
   "source": [
    "data"
   ]
  },
  {
   "cell_type": "code",
   "execution_count": 7,
   "id": "53d3fc93",
   "metadata": {},
   "outputs": [],
   "source": [
    "x= data.iloc[:,:-1].values  \n",
    "y= data.iloc[:,-1].values  "
   ]
  },
  {
   "cell_type": "markdown",
   "id": "172ae6d8",
   "metadata": {},
   "source": [
    "### data preprocessing"
   ]
  },
  {
   "cell_type": "code",
   "execution_count": 18,
   "id": "01397f81",
   "metadata": {},
   "outputs": [],
   "source": [
    "# transform the dataset\n",
    "oversample = SMOTE()\n",
    "x, y = oversample.fit_resample(x, y)\n",
    "# summarize distribution\n",
    "counter = Counter(y)\n",
    "for k,v in counter.items():\n",
    "    per = v / len(y) * 100\n",
    "    print('Class=%d, n=%d (%.3f%%)' % (k, v, per))\n",
    "# plot the distribution\n",
    "plt.bar(counter.keys(), counter.values())\n",
    "plt.show()"
   ]
  },
  {
   "cell_type": "code",
   "execution_count": 9,
   "id": "d746de3e",
   "metadata": {},
   "outputs": [],
   "source": [
    "x_train, x_test, y_train, y_test= train_test_split(x, y, test_size= 0.25, random_state=0, shuffle=True,stratify=y)"
   ]
  },
  {
   "cell_type": "markdown",
   "id": "967448fb",
   "metadata": {},
   "source": [
    "### Model training"
   ]
  },
  {
   "cell_type": "code",
   "execution_count": 23,
   "id": "ced3822f",
   "metadata": {},
   "outputs": [],
   "source": [
    "NV=GaussianNB()\n",
    "NV.fit(x_train,y_train)"
   ]
  },
  {
   "cell_type": "markdown",
   "id": "0f5c3880",
   "metadata": {},
   "source": [
    "### Model evaluation"
   ]
  },
  {
   "cell_type": "code",
   "execution_count": 24,
   "id": "0d0c8113",
   "metadata": {},
   "outputs": [],
   "source": [
    "y_pred_NV= NV.predict(x_test)  \n",
    "y_pred_NV"
   ]
  },
  {
   "cell_type": "code",
   "execution_count": 12,
   "id": "cab367a5",
   "metadata": {},
   "outputs": [],
   "source": [
    "accuracy = accuracy_score(y_test, y_pred_NV)\n",
    "# print(\"Accuracy Score:\", accuracy)"
   ]
  },
  {
   "cell_type": "code",
   "execution_count": 13,
   "id": "f76bdd3e",
   "metadata": {},
   "outputs": [
    {
     "name": "stdout",
     "output_type": "stream",
     "text": [
      "              precision    recall  f1-score   support\n",
      "\n",
      "           0       0.52      0.76      0.62     15797\n",
      "          50       0.47      0.33      0.39     15796\n",
      "         100       0.79      0.65      0.72     15796\n",
      "\n",
      "    accuracy                           0.58     47389\n",
      "   macro avg       0.59      0.58      0.57     47389\n",
      "weighted avg       0.59      0.58      0.57     47389\n",
      "\n"
     ]
    }
   ],
   "source": [
    "print(classification_report(y_test, y_pred_NV))"
   ]
  },
  {
   "cell_type": "code",
   "execution_count": 25,
   "id": "62354173-e0c4-4319-b489-c452e26ce183",
   "metadata": {},
   "outputs": [],
   "source": [
    "import numpy as np\n",
    "from sklearn.metrics import confusion_matrix\n",
    "\n",
    "def accuracy_for_each_element(confusion_matrix):\n",
    "    num_classes = len(confusion_matrix)\n",
    "    accuracy_matrix = np.zeros((num_classes, num_classes), dtype=float)\n",
    "    for i in range(num_classes):\n",
    "        for j in range(num_classes):\n",
    "            accuracy_matrix[i, j] = round(cm[i, j]/cm.sum(axis=1)[i], 2)\n",
    "    return accuracy_matrix\n",
    "\n",
    "cm = confusion_matrix(y_test, y_pred_NV)\n",
    "# print('Confusion matrix:\\n', cm)\n",
    "\n",
    "accuracy_matrix = accuracy_for_each_element(cm)\n",
    "# print(\"\\nAccuracy Matrix for Each Element:\", accuracy_matrix)\n",
    "\n",
    "group_counts = [value for value in accuracy_matrix.flatten()]\n",
    "\n",
    "labels = [v1 for v1 in group_counts]\n",
    "labels = np.asarray(labels).reshape(3,3)\n",
    "\n",
    "ht=sns.heatmap(cm, annot=labels, fmt='', cmap='Blues')\n",
    "ht.set_xticklabels(['0', '50', '100'])\n",
    "ht.set_yticklabels(['0', '50', '100'])\n",
    "\n",
    "plt.title(f'Naive Bayes Model Size - 990 Bytes\\n{round(accuracy*100, 2)} accuracy')\n",
    "plt.xlabel(\"Predicted\")\n",
    "plt.ylabel(\"Actual\")\n",
    "plt.show()"
   ]
  },
  {
   "cell_type": "markdown",
   "id": "a64214cc",
   "metadata": {},
   "source": [
    "### save model"
   ]
  },
  {
   "cell_type": "code",
   "execution_count": 15,
   "id": "dc9de48b",
   "metadata": {},
   "outputs": [],
   "source": [
    "f='model_zoo/naive_bayes.pkl'\n",
    "pickle.dump(NV,open(f,'wb'))"
   ]
  },
  {
   "cell_type": "markdown",
   "id": "27ff4d40",
   "metadata": {},
   "source": [
    "### model testing"
   ]
  },
  {
   "cell_type": "code",
   "execution_count": 16,
   "id": "d67819ae",
   "metadata": {},
   "outputs": [],
   "source": [
    "model=pickle.load(open('model_zoo/naive_bayes.pkl','rb'))\n",
    "input_data = np.array([-722,-1918,-194,-15,-8,-1])\n",
    "result= model.predict([input_data])"
   ]
  },
  {
   "cell_type": "code",
   "execution_count": 17,
   "id": "059aeabf",
   "metadata": {},
   "outputs": [
    {
     "data": {
      "text/plain": [
       "100"
      ]
     },
     "execution_count": 17,
     "metadata": {},
     "output_type": "execute_result"
    }
   ],
   "source": [
    "result[0]"
   ]
  }
 ],
 "metadata": {
  "kernelspec": {
   "display_name": "Python 3 (ipykernel)",
   "language": "python",
   "name": "python3"
  },
  "language_info": {
   "codemirror_mode": {
    "name": "ipython",
    "version": 3
   },
   "file_extension": ".py",
   "mimetype": "text/x-python",
   "name": "python",
   "nbconvert_exporter": "python",
   "pygments_lexer": "ipython3",
   "version": "3.9.18"
  }
 },
 "nbformat": 4,
 "nbformat_minor": 5
}
