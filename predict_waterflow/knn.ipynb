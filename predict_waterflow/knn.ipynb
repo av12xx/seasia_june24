{
 "cells": [
  {
   "cell_type": "code",
   "execution_count": 1,
   "id": "4f547c31-1e09-45dd-b35d-b8c582f4d7db",
   "metadata": {},
   "outputs": [],
   "source": [
    "import pandas as pd \n",
    "from sklearn.model_selection import train_test_split  \n",
    "from sklearn.neighbors import KNeighborsClassifier\n",
    "from sklearn.metrics import accuracy_score , classification_report, confusion_matrix\n",
    "import seaborn as sns\n",
    "import pickle\n",
    "import numpy as np \n",
    "from imblearn.over_sampling import SMOTE\n",
    "import matplotlib.pyplot as plt\n",
    "from collections import Counter"
   ]
  },
  {
   "cell_type": "markdown",
   "id": "9b9fcf42-78fe-47d9-bf36-9cee4b31a1be",
   "metadata": {},
   "source": [
    "### data prep"
   ]
  },
  {
   "cell_type": "code",
   "execution_count": 2,
   "id": "16eebd0e-9083-4e0a-ad0f-10d6fd65f7a5",
   "metadata": {},
   "outputs": [],
   "source": [
    "data=pd.read_csv(\"data/cleaned_data.csv\")"
   ]
  },
  {
   "cell_type": "code",
   "execution_count": 3,
   "id": "4f505f78",
   "metadata": {},
   "outputs": [],
   "source": [
    "def grouping_(x):\n",
    "    if x<=30:\n",
    "        return 0\n",
    "    elif 30<x<300:\n",
    "        return 50\n",
    "    else:\n",
    "        return 100\n",
    "    \n",
    "data['Degree_rotation'] = data['Degree_rotation'].apply(lambda x :grouping_(x))"
   ]
  },
  {
   "cell_type": "code",
   "execution_count": 4,
   "id": "c3aaa70d-49e5-459c-8fc8-dec0a2ca623d",
   "metadata": {},
   "outputs": [],
   "source": [
    "x= data.iloc[:,:-1].values  \n",
    "y= data.iloc[:,-1].values  "
   ]
  },
  {
   "cell_type": "markdown",
   "id": "a587f14e",
   "metadata": {},
   "source": [
    "### data preprocessing"
   ]
  },
  {
   "cell_type": "code",
   "execution_count": 16,
   "id": "f2fec9a3",
   "metadata": {},
   "outputs": [],
   "source": [
    "# transform the dataset\n",
    "oversample = SMOTE()\n",
    "x, y = oversample.fit_resample(x, y)\n",
    "# summarize distribution\n",
    "counter = Counter(y)\n",
    "for k,v in counter.items():\n",
    "    per = v / len(y) * 100\n",
    "    print('Class=%d, n=%d (%.3f%%)' % (k, v, per))\n",
    "# plot the distribution`\n",
    "plt.bar(counter.keys(), counter.values())\n",
    "plt.show()"
   ]
  },
  {
   "cell_type": "code",
   "execution_count": 6,
   "id": "8cf0ffcc",
   "metadata": {},
   "outputs": [],
   "source": [
    "x_train, x_test, y_train, y_test= train_test_split(x, y, test_size= 0.25, random_state=0, shuffle=True,stratify=y) "
   ]
  },
  {
   "cell_type": "markdown",
   "id": "68da1be7-6eab-472b-91f7-ecb9e7d02ede",
   "metadata": {},
   "source": [
    "### model training"
   ]
  },
  {
   "cell_type": "code",
   "execution_count": 7,
   "id": "5f3086ef-bf3d-4c02-80e3-eb35977b7b41",
   "metadata": {},
   "outputs": [],
   "source": [
    "knn5= KNeighborsClassifier(n_neighbors=1)"
   ]
  },
  {
   "cell_type": "code",
   "execution_count": 17,
   "id": "78ee8fb5-ceef-4d6e-baeb-ca34841f2cb9",
   "metadata": {},
   "outputs": [],
   "source": [
    "knn5.fit(x_train,y_train)"
   ]
  },
  {
   "cell_type": "markdown",
   "id": "65be78d0-c765-4c0b-9216-d64ff75d478c",
   "metadata": {},
   "source": [
    "### model evaluation"
   ]
  },
  {
   "cell_type": "code",
   "execution_count": 9,
   "id": "ff6b6f75-a57e-41f0-a3b7-e7ec7b5c33d8",
   "metadata": {},
   "outputs": [],
   "source": [
    "y_pred_knn=knn5.predict(x_test)"
   ]
  },
  {
   "cell_type": "code",
   "execution_count": 18,
   "id": "4fb0fb8d-15e1-4b82-bd75-c43995f70347",
   "metadata": {},
   "outputs": [],
   "source": [
    "y_pred_knn"
   ]
  },
  {
   "cell_type": "code",
   "execution_count": 11,
   "id": "e25b179e-bc6e-40f6-a4ab-1ec7e4e79f47",
   "metadata": {},
   "outputs": [
    {
     "name": "stdout",
     "output_type": "stream",
     "text": [
      "Accuracy Score: 0.9020236763805947\n",
      "\n",
      "              precision    recall  f1-score   support\n",
      "\n",
      "           0       0.85      0.93      0.89     15797\n",
      "          50       0.91      0.78      0.84     15796\n",
      "         100       0.95      0.99      0.97     15796\n",
      "\n",
      "    accuracy                           0.90     47389\n",
      "   macro avg       0.90      0.90      0.90     47389\n",
      "weighted avg       0.90      0.90      0.90     47389\n",
      "\n"
     ]
    }
   ],
   "source": [
    "accuracy = accuracy_score(y_test, y_pred_knn)\n",
    "print(\"Accuracy Score:\", accuracy)\n",
    "print()\n",
    "print(classification_report(y_test, y_pred_knn))"
   ]
  },
  {
   "cell_type": "code",
   "execution_count": 19,
   "id": "39c4612a-e898-4f83-95eb-1a6921141402",
   "metadata": {},
   "outputs": [],
   "source": [
    "import numpy as np\n",
    "from sklearn.metrics import confusion_matrix\n",
    "\n",
    "def accuracy_for_each_element(confusion_matrix):\n",
    "    num_classes = len(confusion_matrix)\n",
    "    accuracy_matrix = np.zeros((num_classes, num_classes), dtype=float)\n",
    "    for i in range(num_classes):\n",
    "        for j in range(num_classes):\n",
    "            accuracy_matrix[i, j] = round(cm[i, j]/cm.sum(axis=1)[i], 2)\n",
    "    return accuracy_matrix\n",
    "\n",
    "cm = confusion_matrix(y_test, y_pred_knn)\n",
    "# print('Confusion matrix:\\n', cm)\n",
    "\n",
    "accuracy_matrix = accuracy_for_each_element(cm)\n",
    "# print(\"\\nAccuracy Matrix for Each Element:\", accuracy_matrix)\n",
    "\n",
    "group_counts = [value for value in accuracy_matrix.flatten()]\n",
    "\n",
    "labels = [v1 for v1 in group_counts]\n",
    "labels = np.asarray(labels).reshape(3,3)\n",
    "\n",
    "ht=sns.heatmap(cm, annot=labels, fmt='', cmap='Blues')\n",
    "ht.set_xticklabels(['0', '50', '100'])\n",
    "ht.set_yticklabels(['0', '50', '100'])\n",
    "\n",
    "plt.title(f'KNN Model Size - 16.4MB\\n{round(accuracy*100, 2)} accuracy')\n",
    "plt.xlabel(\"Predicted\")\n",
    "plt.ylabel(\"Actual\")\n",
    "plt.show()"
   ]
  },
  {
   "cell_type": "markdown",
   "id": "137a519b-d93e-4162-948a-6af51d3ad074",
   "metadata": {},
   "source": [
    "### save model"
   ]
  },
  {
   "cell_type": "code",
   "execution_count": 13,
   "id": "ffd6d059-4f79-4539-a8b6-e8919775a293",
   "metadata": {},
   "outputs": [],
   "source": [
    "f='model_zoo/knn.pkl'\n",
    "pickle.dump(knn5,open(f,'wb'))"
   ]
  },
  {
   "cell_type": "code",
   "execution_count": 14,
   "id": "202f2166",
   "metadata": {},
   "outputs": [],
   "source": [
    "model=pickle.load(open('model_zoo/knn.pkl','rb'))\n",
    "input_data = np.array([-722,-1918,-194,-15,-8,-1])\n",
    "result= model.predict([input_data])"
   ]
  },
  {
   "cell_type": "code",
   "execution_count": 15,
   "id": "5f7776a3",
   "metadata": {},
   "outputs": [
    {
     "data": {
      "text/plain": [
       "100"
      ]
     },
     "execution_count": 15,
     "metadata": {},
     "output_type": "execute_result"
    }
   ],
   "source": [
    "result[0]"
   ]
  }
 ],
 "metadata": {
  "kernelspec": {
   "display_name": "Python 3 (ipykernel)",
   "language": "python",
   "name": "python3"
  },
  "language_info": {
   "codemirror_mode": {
    "name": "ipython",
    "version": 3
   },
   "file_extension": ".py",
   "mimetype": "text/x-python",
   "name": "python",
   "nbconvert_exporter": "python",
   "pygments_lexer": "ipython3",
   "version": "3.9.18"
  }
 },
 "nbformat": 4,
 "nbformat_minor": 5
}
