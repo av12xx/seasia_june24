{
 "cells": [
  {
   "cell_type": "code",
   "execution_count": 2,
   "id": "eb6cc995-d78f-4023-9d4c-4920f25f0591",
   "metadata": {},
   "outputs": [
    {
     "name": "stdout",
     "output_type": "stream",
     "text": [
      "Camera not opened\n"
     ]
    },
    {
     "name": "stderr",
     "output_type": "stream",
     "text": [
      "[ WARN:0@100.370] global cap_v4l.cpp:1119 tryIoctl VIDEOIO(V4L2:/dev/video0): select() timeout.\n"
     ]
    }
   ],
   "source": [
    "import cv2\n",
    "\n",
    "cap = cv2.VideoCapture(0)\n",
    "line_thickness=1\n",
    "face_detector = cv2.FaceDetectorYN.create(\"face_detection_yunet_2023mar.onnx\", \"\", (160, 160))\n",
    "\n",
    "while cap.isOpened():\n",
    "    ret, frame = cap.read()\n",
    "    if not ret:\n",
    "        print(\"Camera not opened\")\n",
    "        break\n",
    "\n",
    "    img_RGB = cv2.cvtColor(frame, cv2.COLOR_BGR2RGB)\n",
    "    height, width, _ = img_RGB.shape\n",
    "    face_detector.setInputSize((width, height))\n",
    "    _, faces = face_detector.detect(img_RGB)\n",
    "    if faces is not None:\n",
    "        for face in faces:\n",
    "            x1, y1, w, h = list(map(int, face[:4]))\n",
    "            x1, y1 = abs(x1), abs(y1)\n",
    "            x2, y2 = x1 + w, y1 + h\n",
    "            face_img = img_RGB[y1:y2, x1:x2]\n",
    "\n",
    "            cv2.rectangle(frame, (x1, y1), (x2, y2), (0, 255, 0), line_thickness)\n",
    "            \n",
    "    cv2.imshow('YOLO V8 Detection (Persons & Faces)', frame)\n",
    "    if cv2.waitKey(1) & 0xFF == ord('q'):\n",
    "        break\n",
    "\n",
    "cap.release()\n",
    "cv2.destroyAllWindows()"
   ]
  },
  {
   "cell_type": "code",
   "execution_count": null,
   "id": "0e75bd15-0e1e-49e9-9326-1b664f2d4fff",
   "metadata": {},
   "outputs": [],
   "source": []
  }
 ],
 "metadata": {
  "kernelspec": {
   "display_name": "Python 3 (ipykernel)",
   "language": "python",
   "name": "python3"
  },
  "language_info": {
   "codemirror_mode": {
    "name": "ipython",
    "version": 3
   },
   "file_extension": ".py",
   "mimetype": "text/x-python",
   "name": "python",
   "nbconvert_exporter": "python",
   "pygments_lexer": "ipython3",
   "version": "3.10.12"
  }
 },
 "nbformat": 4,
 "nbformat_minor": 5
}
