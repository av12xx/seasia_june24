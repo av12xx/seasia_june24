{
 "cells": [
  {
   "attachments": {},
   "cell_type": "markdown",
   "metadata": {
    "id": "lSi3-2hNATRF"
   },
   "source": [
    "pyannote-video (GITHUB)\n",
    "---\n",
    "**A toolkit for face detection, tracking, and clustering in videos**"
   ]
  },
  {
   "cell_type": "code",
   "execution_count": null,
   "metadata": {
    "id": "edV8-HCJP5Vd"
   },
   "outputs": [],
   "source": [
    "!apt update\n",
    "!apt upgrade -y\n",
    "!uname -m && cat /etc/*release\n",
    "!gcc --version\n",
    "!uname -r"
   ]
  },
  {
   "cell_type": "code",
   "execution_count": null,
   "metadata": {
    "colab": {
     "base_uri": "https://localhost:8080/",
     "height": 306
    },
    "id": "imNgtQugP2Ys",
    "outputId": "be710381-2a7e-4979-a115-8f0249b81c7e"
   },
   "outputs": [],
   "source": [
    "!nvidia-smi"
   ]
  },
  {
   "attachments": {},
   "cell_type": "markdown",
   "metadata": {
    "id": "yxxgDs9VYtbi"
   },
   "source": [
    "To access Google Drive Folder and Files"
   ]
  },
  {
   "cell_type": "code",
   "execution_count": null,
   "metadata": {
    "colab": {
     "base_uri": "https://localhost:8080/",
     "height": 122
    },
    "id": "PAOg5dpnYvZs",
    "outputId": "36c45d7d-0c4f-40ad-983a-2d93286abe77"
   },
   "outputs": [],
   "source": [
    "# Load the Drive helper and mount\n",
    "from google.colab import drive\n",
    "\n",
    "# This will prompt for authorization.\n",
    "drive.mount('/content/drive')"
   ]
  },
  {
   "cell_type": "code",
   "execution_count": null,
   "metadata": {
    "id": "6-ry3GzZaYqL"
   },
   "outputs": [],
   "source": [
    "# After executing the cell above, Drive\n",
    "# files will be present in \"/content/drive/My Drive\".\n",
    "!ls \"/content/drive/My Drive/GoogleColab\""
   ]
  },
  {
   "attachments": {},
   "cell_type": "markdown",
   "metadata": {
    "id": "BxitvwCv-1II"
   },
   "source": [
    "Create Directory & Copy File From Google Drive"
   ]
  },
  {
   "cell_type": "code",
   "execution_count": null,
   "metadata": {
    "id": "eL8WsO7vanho"
   },
   "outputs": [],
   "source": [
    "%mkdir pyannote-data\n",
    "!cp -r \"/content/drive/My Drive/GoogleColab/BRICS.mp4\" pyannote-data/"
   ]
  },
  {
   "attachments": {},
   "cell_type": "markdown",
   "metadata": {
    "id": "fP7Q33zpwnhY"
   },
   "source": [
    "**Upgrading all packages with pip**"
   ]
  },
  {
   "cell_type": "code",
   "execution_count": null,
   "metadata": {
    "id": "mo6X7lycwNZM"
   },
   "outputs": [],
   "source": [
    "!pip list --outdated --format=freeze | grep -v '^\\-e' | cut -d = -f 1  | xargs -n1 pip install -U"
   ]
  },
  {
   "attachments": {},
   "cell_type": "markdown",
   "metadata": {
    "id": "JPqe8PEFTmDc"
   },
   "source": [
    "Then, install pyannote-video and its dependencies:"
   ]
  },
  {
   "cell_type": "code",
   "execution_count": null,
   "metadata": {
    "id": "b3HR7oX9S7kf"
   },
   "outputs": [],
   "source": [
    "!pip install imageio==2.4.1 imgaug==0.2.5 mido==1.2.6 python-rtmidi==1.2\n",
    "!pip install pyannote-video"
   ]
  },
  {
   "attachments": {},
   "cell_type": "markdown",
   "metadata": {
    "id": "8rouSGqvTqn_"
   },
   "source": [
    "Finally, download sample video and dlib models:"
   ]
  },
  {
   "cell_type": "code",
   "execution_count": null,
   "metadata": {
    "id": "oOUCp3XITsyR"
   },
   "outputs": [],
   "source": [
    "!git clone https://github.com/pyannote/pyannote-data.git\n",
    "!git clone https://github.com/davisking/dlib-models.git\n",
    "!bunzip2 dlib-models/dlib_face_recognition_resnet_model_v1.dat.bz2\n",
    "!bunzip2 dlib-models/shape_predictor_68_face_landmarks.dat.bz2"
   ]
  },
  {
   "cell_type": "code",
   "execution_count": null,
   "metadata": {
    "colab": {
     "base_uri": "https://localhost:8080/",
     "height": 34
    },
    "id": "WDbH5VnlWJMH",
    "outputId": "ac3a4f70-0d55-499d-b32f-80aa4ceb5cfc"
   },
   "outputs": [],
   "source": [
    "ls pyannote-data/"
   ]
  },
  {
   "cell_type": "code",
   "execution_count": null,
   "metadata": {
    "colab": {
     "base_uri": "https://localhost:8080/",
     "height": 136
    },
    "id": "x2_l3-fwT3k4",
    "outputId": "b28d962c-c59f-4683-8996-b58679e22dfc"
   },
   "outputs": [],
   "source": [
    "!git clone https://github.com/pyannote/pyannote-video.git"
   ]
  },
  {
   "cell_type": "code",
   "execution_count": null,
   "metadata": {
    "colab": {
     "base_uri": "https://localhost:8080/",
     "height": 34
    },
    "id": "dDPYxXMyUBiy",
    "outputId": "80278be0-3eef-40f4-eda7-419d9cb1d80d"
   },
   "outputs": [],
   "source": [
    "%pylab inline"
   ]
  },
  {
   "attachments": {},
   "cell_type": "markdown",
   "metadata": {
    "id": "Y7q88dt2UKsp"
   },
   "source": [
    "Shot segmentation\n",
    "---"
   ]
  },
  {
   "cell_type": "code",
   "execution_count": null,
   "metadata": {
    "id": "7S27oGQ4UJBH"
   },
   "outputs": [],
   "source": [
    "!pyannote-structure.py --help"
   ]
  },
  {
   "cell_type": "code",
   "execution_count": null,
   "metadata": {
    "colab": {
     "base_uri": "https://localhost:8080/",
     "height": 34
    },
    "id": "cQSKwVgFURVI",
    "outputId": "788e9940-1cef-4eec-a5f2-79d65d149890"
   },
   "outputs": [],
   "source": [
    "!pyannote-structure.py shot --verbose pyannote-data/BRICS.mp4 \\\n",
    "                                      pyannote-data/BRICS.shots.json"
   ]
  },
  {
   "attachments": {},
   "cell_type": "markdown",
   "metadata": {
    "id": "BlnSnjd7UUo0"
   },
   "source": [
    "Detected shot boundaries can be visualized using pyannote.core notebook support:"
   ]
  },
  {
   "cell_type": "code",
   "execution_count": null,
   "metadata": {
    "colab": {
     "base_uri": "https://localhost:8080/",
     "height": 116
    },
    "id": "21sidcFmUWpo",
    "outputId": "9ef92ce8-2819-4787-98c6-4e9e6ab5981b"
   },
   "outputs": [],
   "source": [
    "from pyannote.core.json import load_from\n",
    "shots = load_from('pyannote-data/BRICS.shots.json')\n",
    "shots"
   ]
  },
  {
   "attachments": {},
   "cell_type": "markdown",
   "metadata": {
    "id": "78I3jH0gUYJG"
   },
   "source": [
    "Face processing\n",
    "---"
   ]
  },
  {
   "cell_type": "code",
   "execution_count": null,
   "metadata": {
    "id": "MgKYsaGxUbta"
   },
   "outputs": [],
   "source": [
    "!pyannote-face.py --help"
   ]
  },
  {
   "cell_type": "code",
   "execution_count": null,
   "metadata": {
    "colab": {
     "base_uri": "https://localhost:8080/",
     "height": 34
    },
    "id": "VRVwYXmtUiCe",
    "outputId": "2c27e0bf-ffeb-4893-ce0d-b3cf799d7308"
   },
   "outputs": [],
   "source": [
    "!pyannote-face.py track --verbose --every=0.5 pyannote-data/BRICS.mp4 \\\n",
    "                                              pyannote-data/BRICS.shots.json \\\n",
    "                                              pyannote-data/BRICS.track.txt"
   ]
  },
  {
   "attachments": {},
   "cell_type": "markdown",
   "metadata": {
    "id": "xLt-X9R4Ufbh"
   },
   "source": [
    "**Face tracking**"
   ]
  },
  {
   "attachments": {},
   "cell_type": "markdown",
   "metadata": {
    "id": "Bml4057ZUkuX"
   },
   "source": [
    "Face tracks can be visualized using demo mode:"
   ]
  },
  {
   "cell_type": "code",
   "execution_count": null,
   "metadata": {
    "colab": {
     "base_uri": "https://localhost:8080/",
     "height": 255
    },
    "id": "kzbJAXLBUmc2",
    "outputId": "35fc10b5-953c-4543-a4c1-f8abccc5a663"
   },
   "outputs": [],
   "source": [
    "!pyannote-face.py demo pyannote-data/BRICS.mp4 \\\n",
    "                       pyannote-data/BRICS.track.txt \\\n",
    "                       pyannote-data/BRICS.track.mp4"
   ]
  },
  {
   "cell_type": "code",
   "execution_count": null,
   "metadata": {
    "colab": {
     "base_uri": "https://localhost:8080/",
     "height": 421
    },
    "id": "ABbp8qhVUrlZ",
    "outputId": "98dd093c-ebb1-4673-dbd2-f0c5d1c17789"
   },
   "outputs": [],
   "source": [
    "import io\n",
    "import base64\n",
    "from IPython.display import HTML\n",
    "video = io.open('pyannote-data/BRICS.track.mp4', 'r+b').read()\n",
    "encoded = base64.b64encode(video)\n",
    "HTML(data='''<video alt=\"test\" controls><source src=\"data:video/mp4;base64,{0}\" type=\"video/mp4\" /></video>'''.format(encoded.decode('ascii')))"
   ]
  },
  {
   "attachments": {},
   "cell_type": "markdown",
   "metadata": {
    "id": "xFPJyMi2Zbe6"
   },
   "source": [
    "Facial landmarks and face embedding\n",
    "---"
   ]
  },
  {
   "cell_type": "code",
   "execution_count": null,
   "metadata": {
    "colab": {
     "base_uri": "https://localhost:8080/",
     "height": 34
    },
    "id": "AnupyrDBZXQL",
    "outputId": "a89f7684-f433-466c-85ac-3559c3328a90"
   },
   "outputs": [],
   "source": [
    "!pyannote-face.py extract --verbose pyannote-data/BRICS.mp4 \\\n",
    "                                    pyannote-data/BRICS.track.txt \\\n",
    "                                    dlib-models/shape_predictor_68_face_landmarks.dat \\\n",
    "                                    dlib-models/dlib_face_recognition_resnet_model_v1.dat \\\n",
    "                                    pyannote-data/BRICS.landmarks.txt \\\n",
    "                                    pyannote-data/BRICS.embedding.txt"
   ]
  },
  {
   "attachments": {},
   "cell_type": "markdown",
   "metadata": {
    "id": "ykrVAQpQZfFP"
   },
   "source": [
    "Face clustering\n",
    "---\n",
    "Once embeddings are extracted, let's apply face track hierarchical agglomerative clustering.\n",
    "The distance between two clusters is defined as the average euclidean distance between all embeddings."
   ]
  },
  {
   "cell_type": "code",
   "execution_count": null,
   "metadata": {
    "id": "p1NATz83ZflN"
   },
   "outputs": [],
   "source": [
    "from pyannote.video.face.clustering import FaceClustering\n",
    "clustering = FaceClustering(threshold=0.6)"
   ]
  },
  {
   "cell_type": "code",
   "execution_count": null,
   "metadata": {
    "colab": {
     "base_uri": "https://localhost:8080/",
     "height": 116
    },
    "id": "5sa6Oc8EZhQf",
    "outputId": "bd8784cc-17ee-4144-fdfe-b287a2c5134e"
   },
   "outputs": [],
   "source": [
    "face_tracks, embeddings = clustering.model.preprocess('pyannote-data/BRICS.embedding.txt')\n",
    "face_tracks.get_timeline()"
   ]
  },
  {
   "cell_type": "code",
   "execution_count": null,
   "metadata": {
    "colab": {
     "base_uri": "https://localhost:8080/",
     "height": 294
    },
    "id": "1R9k5t8rlMJQ",
    "outputId": "11bfabf1-0db0-411d-d467-0be005d04e65"
   },
   "outputs": [],
   "source": [
    "face_tracks"
   ]
  },
  {
   "cell_type": "code",
   "execution_count": null,
   "metadata": {
    "id": "LsBqSVVKZlUh"
   },
   "outputs": [],
   "source": [
    "result = clustering(face_tracks, features=embeddings)\n"
   ]
  },
  {
   "cell_type": "code",
   "execution_count": null,
   "metadata": {
    "colab": {
     "base_uri": "https://localhost:8080/",
     "height": 204
    },
    "id": "Kx3jeOoeok1D",
    "outputId": "f7035529-dd30-4cc6-970f-a479dee3672d"
   },
   "outputs": [],
   "source": [
    "result"
   ]
  },
  {
   "cell_type": "code",
   "execution_count": null,
   "metadata": {
    "colab": {
     "base_uri": "https://localhost:8080/",
     "height": 205
    },
    "id": "9-zgG0kQZl2n",
    "outputId": "75c03eb0-9789-44cf-8112-2daab1cad7c1"
   },
   "outputs": [],
   "source": [
    "from pyannote.core import notebook, Segment\n",
    "notebook.reset()\n",
    "notebook.crop = Segment(0, 42)\n",
    "#mapping = {8: 'Vladimir Putin', 22: 'Michel Temer', 23:'Cyril Ramaphosa', 40:'Xi Jinping', 39:'Narendra Modi', 6:'False Negative'}\n",
    "mapping = {16: 'Vladimir_Putin', 26: 'Michel_Temer', 30:'Cyril_Ramaphosa', 37:'Xi_Jinping', 33:'Narendra_Modi', 22:'False_Negative'}\n",
    "result = result.rename_labels(mapping=mapping)\n",
    "result"
   ]
  },
  {
   "cell_type": "code",
   "execution_count": null,
   "metadata": {
    "id": "lqUfw8FSZqB0"
   },
   "outputs": [],
   "source": [
    "with open('pyannote-data/BRICS1.labels.txt', 'w') as fp:\n",
    "    for _, track_id, cluster in result.itertracks(yield_label=True):\n",
    "        fp.write(f'{track_id} {cluster}\\n')"
   ]
  },
  {
   "cell_type": "code",
   "execution_count": null,
   "metadata": {
    "colab": {
     "base_uri": "https://localhost:8080/",
     "height": 170
    },
    "id": "8j3_nbDaZqZm",
    "outputId": "5f36ca31-ebc2-4dca-9873-7c137d92e221"
   },
   "outputs": [],
   "source": [
    "!pyannote-face.py demo pyannote-data/BRICS.mp4 \\\n",
    "                       pyannote-data/BRICS.track.txt \\\n",
    "                       --label=pyannote-data/BRICS1.labels.txt \\\n",
    "                       pyannote-data/BRICS1.final.mp4"
   ]
  },
  {
   "cell_type": "code",
   "execution_count": null,
   "metadata": {
    "colab": {
     "base_uri": "https://localhost:8080/",
     "height": 421
    },
    "id": "LIG1_8LLP2_r",
    "outputId": "8a1abe53-e750-4d3e-b33c-6d4775543444"
   },
   "outputs": [],
   "source": [
    "import io\n",
    "import base64\n",
    "from IPython.display import HTML\n",
    "video = io.open('pyannote-data/BRICS1.final.mp4', 'r+b').read()\n",
    "encoded = base64.b64encode(video)\n",
    "HTML(data='''<video alt=\"test\" controls><source src=\"data:video/mp4;base64,{0}\" type=\"video/mp4\" /></video>'''.format(encoded.decode('ascii')))"
   ]
  },
  {
   "cell_type": "code",
   "execution_count": null,
   "metadata": {
    "id": "q6bFkJoRlIsi"
   },
   "outputs": [],
   "source": [
    "from google.colab import files\n",
    "files.download('pyannote-data/BRICS1.final.mp4')"
   ]
  },
  {
   "cell_type": "code",
   "execution_count": null,
   "metadata": {
    "colab": {
     "base_uri": "https://localhost:8080/",
     "height": 102
    },
    "id": "FNt-cISnlUeK",
    "outputId": "37a022b2-7ae0-46e0-abdf-c719c7324da6"
   },
   "outputs": [],
   "source": [
    "ls pyannote-data/"
   ]
  },
  {
   "cell_type": "code",
   "execution_count": null,
   "metadata": {
    "id": "FUsoH3QalTn_"
   },
   "outputs": [],
   "source": [
    " !cp -r pyannote-data/BRICS* \"/content/drive/My Drive/GColab_ML_DL/pyannote_data/\""
   ]
  },
  {
   "cell_type": "code",
   "execution_count": null,
   "metadata": {
    "colab": {
     "base_uri": "https://localhost:8080/",
     "height": 102
    },
    "id": "6bpEsHbAl9xo",
    "outputId": "3c4d9c07-1974-43a0-8100-37fddbcc5469"
   },
   "outputs": [],
   "source": [
    "ls pyannote-data/BRICS*"
   ]
  }
 ],
 "metadata": {
  "accelerator": "GPU",
  "colab": {
   "provenance": [
    {
     "file_id": "https://github.com/hardik0/Deep-Learning-with-GoogleColab/blob/master/pyannote_video%20-%20Face%20Detection%2C%20Tracking%20%26%20clustering%20in%20Videos.ipynb",
     "timestamp": 1682513169236
    }
   ]
  },
  "kernelspec": {
   "display_name": "Python 3 (ipykernel)",
   "language": "python",
   "name": "python3"
  },
  "language_info": {
   "codemirror_mode": {
    "name": "ipython",
    "version": 3
   },
   "file_extension": ".py",
   "mimetype": "text/x-python",
   "name": "python",
   "nbconvert_exporter": "python",
   "pygments_lexer": "ipython3",
   "version": "3.9.16"
  }
 },
 "nbformat": 4,
 "nbformat_minor": 1
}
